{
 "cells": [
  {
   "cell_type": "code",
   "execution_count": 7,
   "metadata": {
    "id": "-UqAH5FO4rQx"
   },
   "outputs": [],
   "source": [
    "import pandas as pd\n",
    "\n",
    "import warnings\n",
    "warnings.filterwarnings('ignore')"
   ]
  },
  {
   "cell_type": "code",
   "execution_count": 8,
   "metadata": {
    "id": "6GZOsLim5fWm"
   },
   "outputs": [],
   "source": [
    "df = pd.read_csv(\"./datos/heart.csv\", header=\"infer\")"
   ]
  },
  {
   "cell_type": "code",
   "execution_count": 9,
   "metadata": {
    "colab": {
     "base_uri": "https://localhost:8080/"
    },
    "id": "15M0Sn535vx0",
    "outputId": "123cdce0-8be4-4849-a73c-3ff9f45994ea"
   },
   "outputs": [
    {
     "data": {
      "text/plain": [
       "age           int64\n",
       "sex           int64\n",
       "cp            int64\n",
       "trtbps        int64\n",
       "chol          int64\n",
       "fbs           int64\n",
       "restecg       int64\n",
       "thalachh      int64\n",
       "exng          int64\n",
       "oldpeak     float64\n",
       "slp           int64\n",
       "caa           int64\n",
       "thall         int64\n",
       "output        int64\n",
       "dtype: object"
      ]
     },
     "execution_count": 9,
     "metadata": {},
     "output_type": "execute_result"
    }
   ],
   "source": [
    "df.dtypes"
   ]
  },
  {
   "cell_type": "code",
   "execution_count": 10,
   "metadata": {
    "colab": {
     "base_uri": "https://localhost:8080/",
     "height": 364
    },
    "id": "JFxZFPou5rdQ",
    "outputId": "50333601-61e2-43f7-85da-66d5eb6112f9"
   },
   "outputs": [
    {
     "data": {
      "text/html": [
       "<div>\n",
       "<style scoped>\n",
       "    .dataframe tbody tr th:only-of-type {\n",
       "        vertical-align: middle;\n",
       "    }\n",
       "\n",
       "    .dataframe tbody tr th {\n",
       "        vertical-align: top;\n",
       "    }\n",
       "\n",
       "    .dataframe thead th {\n",
       "        text-align: right;\n",
       "    }\n",
       "</style>\n",
       "<table border=\"1\" class=\"dataframe\">\n",
       "  <thead>\n",
       "    <tr style=\"text-align: right;\">\n",
       "      <th></th>\n",
       "      <th>age</th>\n",
       "      <th>sex</th>\n",
       "      <th>cp</th>\n",
       "      <th>trtbps</th>\n",
       "      <th>chol</th>\n",
       "      <th>fbs</th>\n",
       "      <th>restecg</th>\n",
       "      <th>thalachh</th>\n",
       "      <th>exng</th>\n",
       "      <th>oldpeak</th>\n",
       "      <th>slp</th>\n",
       "      <th>caa</th>\n",
       "      <th>thall</th>\n",
       "      <th>output</th>\n",
       "    </tr>\n",
       "  </thead>\n",
       "  <tbody>\n",
       "    <tr>\n",
       "      <th>count</th>\n",
       "      <td>303.000000</td>\n",
       "      <td>303.000000</td>\n",
       "      <td>303.000000</td>\n",
       "      <td>303.000000</td>\n",
       "      <td>303.000000</td>\n",
       "      <td>303.000000</td>\n",
       "      <td>303.000000</td>\n",
       "      <td>303.000000</td>\n",
       "      <td>303.000000</td>\n",
       "      <td>303.000000</td>\n",
       "      <td>303.000000</td>\n",
       "      <td>303.000000</td>\n",
       "      <td>303.000000</td>\n",
       "      <td>303.000000</td>\n",
       "    </tr>\n",
       "    <tr>\n",
       "      <th>mean</th>\n",
       "      <td>54.366337</td>\n",
       "      <td>0.683168</td>\n",
       "      <td>0.966997</td>\n",
       "      <td>131.623762</td>\n",
       "      <td>246.264026</td>\n",
       "      <td>0.148515</td>\n",
       "      <td>0.528053</td>\n",
       "      <td>149.646865</td>\n",
       "      <td>0.326733</td>\n",
       "      <td>1.039604</td>\n",
       "      <td>1.399340</td>\n",
       "      <td>0.729373</td>\n",
       "      <td>2.313531</td>\n",
       "      <td>0.544554</td>\n",
       "    </tr>\n",
       "    <tr>\n",
       "      <th>std</th>\n",
       "      <td>9.082101</td>\n",
       "      <td>0.466011</td>\n",
       "      <td>1.032052</td>\n",
       "      <td>17.538143</td>\n",
       "      <td>51.830751</td>\n",
       "      <td>0.356198</td>\n",
       "      <td>0.525860</td>\n",
       "      <td>22.905161</td>\n",
       "      <td>0.469794</td>\n",
       "      <td>1.161075</td>\n",
       "      <td>0.616226</td>\n",
       "      <td>1.022606</td>\n",
       "      <td>0.612277</td>\n",
       "      <td>0.498835</td>\n",
       "    </tr>\n",
       "    <tr>\n",
       "      <th>min</th>\n",
       "      <td>29.000000</td>\n",
       "      <td>0.000000</td>\n",
       "      <td>0.000000</td>\n",
       "      <td>94.000000</td>\n",
       "      <td>126.000000</td>\n",
       "      <td>0.000000</td>\n",
       "      <td>0.000000</td>\n",
       "      <td>71.000000</td>\n",
       "      <td>0.000000</td>\n",
       "      <td>0.000000</td>\n",
       "      <td>0.000000</td>\n",
       "      <td>0.000000</td>\n",
       "      <td>0.000000</td>\n",
       "      <td>0.000000</td>\n",
       "    </tr>\n",
       "    <tr>\n",
       "      <th>25%</th>\n",
       "      <td>47.500000</td>\n",
       "      <td>0.000000</td>\n",
       "      <td>0.000000</td>\n",
       "      <td>120.000000</td>\n",
       "      <td>211.000000</td>\n",
       "      <td>0.000000</td>\n",
       "      <td>0.000000</td>\n",
       "      <td>133.500000</td>\n",
       "      <td>0.000000</td>\n",
       "      <td>0.000000</td>\n",
       "      <td>1.000000</td>\n",
       "      <td>0.000000</td>\n",
       "      <td>2.000000</td>\n",
       "      <td>0.000000</td>\n",
       "    </tr>\n",
       "    <tr>\n",
       "      <th>50%</th>\n",
       "      <td>55.000000</td>\n",
       "      <td>1.000000</td>\n",
       "      <td>1.000000</td>\n",
       "      <td>130.000000</td>\n",
       "      <td>240.000000</td>\n",
       "      <td>0.000000</td>\n",
       "      <td>1.000000</td>\n",
       "      <td>153.000000</td>\n",
       "      <td>0.000000</td>\n",
       "      <td>0.800000</td>\n",
       "      <td>1.000000</td>\n",
       "      <td>0.000000</td>\n",
       "      <td>2.000000</td>\n",
       "      <td>1.000000</td>\n",
       "    </tr>\n",
       "    <tr>\n",
       "      <th>75%</th>\n",
       "      <td>61.000000</td>\n",
       "      <td>1.000000</td>\n",
       "      <td>2.000000</td>\n",
       "      <td>140.000000</td>\n",
       "      <td>274.500000</td>\n",
       "      <td>0.000000</td>\n",
       "      <td>1.000000</td>\n",
       "      <td>166.000000</td>\n",
       "      <td>1.000000</td>\n",
       "      <td>1.600000</td>\n",
       "      <td>2.000000</td>\n",
       "      <td>1.000000</td>\n",
       "      <td>3.000000</td>\n",
       "      <td>1.000000</td>\n",
       "    </tr>\n",
       "    <tr>\n",
       "      <th>max</th>\n",
       "      <td>77.000000</td>\n",
       "      <td>1.000000</td>\n",
       "      <td>3.000000</td>\n",
       "      <td>200.000000</td>\n",
       "      <td>564.000000</td>\n",
       "      <td>1.000000</td>\n",
       "      <td>2.000000</td>\n",
       "      <td>202.000000</td>\n",
       "      <td>1.000000</td>\n",
       "      <td>6.200000</td>\n",
       "      <td>2.000000</td>\n",
       "      <td>4.000000</td>\n",
       "      <td>3.000000</td>\n",
       "      <td>1.000000</td>\n",
       "    </tr>\n",
       "  </tbody>\n",
       "</table>\n",
       "</div>"
      ],
      "text/plain": [
       "              age         sex          cp      trtbps        chol         fbs  \\\n",
       "count  303.000000  303.000000  303.000000  303.000000  303.000000  303.000000   \n",
       "mean    54.366337    0.683168    0.966997  131.623762  246.264026    0.148515   \n",
       "std      9.082101    0.466011    1.032052   17.538143   51.830751    0.356198   \n",
       "min     29.000000    0.000000    0.000000   94.000000  126.000000    0.000000   \n",
       "25%     47.500000    0.000000    0.000000  120.000000  211.000000    0.000000   \n",
       "50%     55.000000    1.000000    1.000000  130.000000  240.000000    0.000000   \n",
       "75%     61.000000    1.000000    2.000000  140.000000  274.500000    0.000000   \n",
       "max     77.000000    1.000000    3.000000  200.000000  564.000000    1.000000   \n",
       "\n",
       "          restecg    thalachh        exng     oldpeak         slp         caa  \\\n",
       "count  303.000000  303.000000  303.000000  303.000000  303.000000  303.000000   \n",
       "mean     0.528053  149.646865    0.326733    1.039604    1.399340    0.729373   \n",
       "std      0.525860   22.905161    0.469794    1.161075    0.616226    1.022606   \n",
       "min      0.000000   71.000000    0.000000    0.000000    0.000000    0.000000   \n",
       "25%      0.000000  133.500000    0.000000    0.000000    1.000000    0.000000   \n",
       "50%      1.000000  153.000000    0.000000    0.800000    1.000000    0.000000   \n",
       "75%      1.000000  166.000000    1.000000    1.600000    2.000000    1.000000   \n",
       "max      2.000000  202.000000    1.000000    6.200000    2.000000    4.000000   \n",
       "\n",
       "            thall      output  \n",
       "count  303.000000  303.000000  \n",
       "mean     2.313531    0.544554  \n",
       "std      0.612277    0.498835  \n",
       "min      0.000000    0.000000  \n",
       "25%      2.000000    0.000000  \n",
       "50%      2.000000    1.000000  \n",
       "75%      3.000000    1.000000  \n",
       "max      3.000000    1.000000  "
      ]
     },
     "execution_count": 10,
     "metadata": {},
     "output_type": "execute_result"
    }
   ],
   "source": [
    "df.describe()"
   ]
  },
  {
   "cell_type": "markdown",
   "metadata": {},
   "source": [
    "### Vemos las variables numéricas"
   ]
  },
  {
   "cell_type": "markdown",
   "metadata": {},
   "source": [
    "### Hay muchas flags como Int64... hacemos la lista a mano, nos quedamos con ['age', 'trtbps', 'chol', 'thalachh'] para el análisis estadístico"
   ]
  },
  {
   "cell_type": "code",
   "execution_count": 14,
   "metadata": {},
   "outputs": [],
   "source": [
    "#numerics = ['int64', 'float64']\n",
    "#cols = df.select_dtypes(include=numerics).columns\n",
    "\n",
    "#cols = [col for col in cols if col not in ['sex', 'fbs', 'exng']]\n",
    "#fields = df.select_dtypes(include=numerics).columns\n",
    "#processsed_fields = [field for field in fields if field not in ['sex', 'fbs', 'exng', 'cp', 'restecg', 'exng', 'oldpeak', 'slp', 'caa', 'thall', 'output']]\n",
    "#processsed_fields\n"
   ]
  },
  {
   "cell_type": "code",
   "execution_count": 15,
   "metadata": {},
   "outputs": [],
   "source": [
    "from scipy.stats import shapiro\n",
    "\n",
    "def test_normality(data):\n",
    "    stat, pvalue = shapiro(data)\n",
    "    print(f\"Result for {col}:\")\n",
    "    print(\"stat: %.9f, p: %.9f\" % (stat, pvalue))\n",
    "    if pvalue > 0.05:\n",
    "        dist = \"Gaussian\"\n",
    "    else:\n",
    "        dist = \"Non-gaussian\"\n",
    "    print(f\"{dist} distribution\\n\")"
   ]
  },
  {
   "cell_type": "code",
   "execution_count": 16,
   "metadata": {},
   "outputs": [
    {
     "name": "stdout",
     "output_type": "stream",
     "text": [
      "Result for age:\n",
      "stat: 0.986371279, p: 0.005800595\n",
      "Non-gaussian distribution\n",
      "\n",
      "Result for trtbps:\n",
      "stat: 0.965917349, p: 0.000001458\n",
      "Non-gaussian distribution\n",
      "\n",
      "Result for chol:\n",
      "stat: 0.946881175, p: 0.000000005\n",
      "Non-gaussian distribution\n",
      "\n",
      "Result for thalachh:\n",
      "stat: 0.976315141, p: 0.000066203\n",
      "Non-gaussian distribution\n",
      "\n"
     ]
    }
   ],
   "source": [
    "interesting_cols = ['age', 'trtbps', 'chol', 'thalachh']\n",
    "\n",
    "for col in interesting_cols:\n",
    "    test_normality(df[col])"
   ]
  },
  {
   "cell_type": "markdown",
   "metadata": {},
   "source": [
    "## Como vemos no siguen distribuciones normales (?)\n",
    "\n",
    "### Transformamos variables para convertirlas en normales"
   ]
  },
  {
   "cell_type": "code",
   "execution_count": 17,
   "metadata": {},
   "outputs": [],
   "source": [
    "from scipy import stats\n",
    "\n",
    "def boxcox_transform(data):\n",
    "    fitted_data, fitted_lambda = stats.boxcox(data)\n",
    "    test_normality(fitted_data)\n",
    "    return fitted_data, data"
   ]
  },
  {
   "cell_type": "code",
   "execution_count": 18,
   "metadata": {},
   "outputs": [
    {
     "name": "stdout",
     "output_type": "stream",
     "text": [
      "Result for age:\n",
      "stat: 0.988755524, p: 0.019112740\n",
      "Non-gaussian distribution\n",
      "\n",
      "Result for trtbps:\n",
      "stat: 0.991139889, p: 0.065170676\n",
      "Gaussian distribution\n",
      "\n",
      "Result for chol:\n",
      "stat: 0.992871583, p: 0.158165038\n",
      "Gaussian distribution\n",
      "\n",
      "Result for thalachh:\n",
      "stat: 0.992451847, p: 0.127896592\n",
      "Gaussian distribution\n",
      "\n"
     ]
    }
   ],
   "source": [
    "interesting_cols = ['age', 'trtbps', 'chol', 'thalachh']\n",
    "\n",
    "loop_cols = interesting_cols.copy()\n",
    "for col in loop_cols:\n",
    "    transformed_col = f\"{col}_transformed\"\n",
    "    tranformed_data, data  = boxcox_transform(df[col])\n",
    "    df[transformed_col] = tranformed_data"
   ]
  },
  {
   "cell_type": "code",
   "execution_count": 19,
   "metadata": {},
   "outputs": [
    {
     "data": {
      "image/png": "[encoded data removed]",
      "text/plain": [
       "<Figure size 720x1008 with 8 Axes>"
      ]
     },
     "metadata": {
      "needs_background": "light"
     },
     "output_type": "display_data"
    }
   ],
   "source": [
    "import matplotlib.pyplot as plt\n",
    "import seaborn as sns\n",
    "\n",
    "interesting_cols = ['age', 'trtbps', 'chol', 'thalachh']\n",
    "extended_cols = []\n",
    "\n",
    "fig, ax = plt.subplots(len(interesting_cols), 2)\n",
    "\n",
    "for idx, col in enumerate(interesting_cols):\n",
    "    transformed_col = f\"{col}_transformed\"\n",
    "\n",
    "    sns.distplot(df[col], hist = False, kde = True,\\\n",
    "                    kde_kws = {'shade': True, 'linewidth': 2}, \\\n",
    "                    label = \"Original data\", color =\"blue\", ax = ax[idx][0])\n",
    "    sns.distplot(df[transformed_col], hist = False, kde = True, \\\n",
    "                    kde_kws = {'shade': True, 'linewidth': 2},\\\n",
    "                    label = \"Transformed data\", color =\"green\", ax = ax[idx][1])\n",
    "\n",
    "    extended_cols.append(col)\n",
    "    extended_cols.append(transformed_col)\n",
    "\n",
    "    # rescaling the subplots\n",
    "fig.set_figheight(14)\n",
    "fig.set_figwidth(10)\n",
    "    "
   ]
  },
  {
   "cell_type": "markdown",
   "metadata": {},
   "source": [
    "## Scaling"
   ]
  },
  {
   "cell_type": "code",
   "execution_count": 19,
   "metadata": {},
   "outputs": [
    {
     "data": {
      "text/html": [
       "<div>\n",
       "<style scoped>\n",
       "    .dataframe tbody tr th:only-of-type {\n",
       "        vertical-align: middle;\n",
       "    }\n",
       "\n",
       "    .dataframe tbody tr th {\n",
       "        vertical-align: top;\n",
       "    }\n",
       "\n",
       "    .dataframe thead th {\n",
       "        text-align: right;\n",
       "    }\n",
       "</style>\n",
       "<table border=\"1\" class=\"dataframe\">\n",
       "  <thead>\n",
       "    <tr style=\"text-align: right;\">\n",
       "      <th></th>\n",
       "      <th>age</th>\n",
       "      <th>age_transformed</th>\n",
       "      <th>trtbps</th>\n",
       "      <th>trtbps_transformed</th>\n",
       "      <th>chol</th>\n",
       "      <th>chol_transformed</th>\n",
       "      <th>thalachh</th>\n",
       "      <th>thalachh_transformed</th>\n",
       "    </tr>\n",
       "  </thead>\n",
       "  <tbody>\n",
       "    <tr>\n",
       "      <th>0</th>\n",
       "      <td>63</td>\n",
       "      <td>245.026003</td>\n",
       "      <td>145</td>\n",
       "      <td>1.390125</td>\n",
       "      <td>233</td>\n",
       "      <td>4.141081</td>\n",
       "      <td>150</td>\n",
       "      <td>33435.178719</td>\n",
       "    </tr>\n",
       "    <tr>\n",
       "      <th>1</th>\n",
       "      <td>37</td>\n",
       "      <td>115.210734</td>\n",
       "      <td>130</td>\n",
       "      <td>1.386589</td>\n",
       "      <td>250</td>\n",
       "      <td>4.180465</td>\n",
       "      <td>187</td>\n",
       "      <td>54788.235951</td>\n",
       "    </tr>\n",
       "    <tr>\n",
       "      <th>2</th>\n",
       "      <td>41</td>\n",
       "      <td>133.288287</td>\n",
       "      <td>130</td>\n",
       "      <td>1.386589</td>\n",
       "      <td>204</td>\n",
       "      <td>4.065939</td>\n",
       "      <td>172</td>\n",
       "      <td>45430.223348</td>\n",
       "    </tr>\n",
       "    <tr>\n",
       "      <th>3</th>\n",
       "      <td>56</td>\n",
       "      <td>207.381618</td>\n",
       "      <td>120</td>\n",
       "      <td>1.383821</td>\n",
       "      <td>236</td>\n",
       "      <td>4.148257</td>\n",
       "      <td>178</td>\n",
       "      <td>49057.156271</td>\n",
       "    </tr>\n",
       "    <tr>\n",
       "      <th>4</th>\n",
       "      <td>57</td>\n",
       "      <td>212.646759</td>\n",
       "      <td>120</td>\n",
       "      <td>1.383821</td>\n",
       "      <td>354</td>\n",
       "      <td>4.370746</td>\n",
       "      <td>163</td>\n",
       "      <td>40277.331099</td>\n",
       "    </tr>\n",
       "  </tbody>\n",
       "</table>\n",
       "</div>"
      ],
      "text/plain": [
       "   age  age_transformed  trtbps  trtbps_transformed  chol  chol_transformed  \\\n",
       "0   63       245.026003     145            1.390125   233          4.141081   \n",
       "1   37       115.210734     130            1.386589   250          4.180465   \n",
       "2   41       133.288287     130            1.386589   204          4.065939   \n",
       "3   56       207.381618     120            1.383821   236          4.148257   \n",
       "4   57       212.646759     120            1.383821   354          4.370746   \n",
       "\n",
       "   thalachh  thalachh_transformed  \n",
       "0       150          33435.178719  \n",
       "1       187          54788.235951  \n",
       "2       172          45430.223348  \n",
       "3       178          49057.156271  \n",
       "4       163          40277.331099  "
      ]
     },
     "execution_count": 19,
     "metadata": {},
     "output_type": "execute_result"
    }
   ],
   "source": [
    "df[extended_cols].head()"
   ]
  },
  {
   "cell_type": "code",
   "execution_count": 22,
   "metadata": {},
   "outputs": [],
   "source": [
    "from sklearn.preprocessing import StandardScaler\n",
    "\n",
    "std_scaler = StandardScaler()\n",
    "\n",
    "df_scaled = std_scaler.fit_transform(df[extended_cols].to_numpy())\n",
    "df_scaled = pd.DataFrame(df_scaled, columns=extended_cols)"
   ]
  },
  {
   "cell_type": "markdown",
   "metadata": {},
   "source": [
    "## Homocedasticity verification Scaled vs Non-Scaled"
   ]
  },
  {
   "cell_type": "code",
   "execution_count": 23,
   "metadata": {},
   "outputs": [],
   "source": [
    "def test_homocedasticity(df: pd.DataFrame, extended_cols: list, mode: str = 'mean'):\n",
    "    transformed_fields = [col for col in extended_cols if col.__contains__('_transformed')]\n",
    "    for first_field in transformed_fields:\n",
    "        transformed_fields.remove(first_field)\n",
    "        for second_field in transformed_fields:\n",
    "            stat, pvalue = stats.levene(df[first_field], df[second_field], center=mode)\n",
    "            print(\"stat: %.3f, p: %.3f\" % (stat, pvalue))\n",
    "            if pvalue > 0.05:\n",
    "                dist = f\"Homocedasticity between {first_field} and {second_field}\"\n",
    "            else:\n",
    "                dist = f\"Non-Homocedasticity between {first_field} and {second_field}\"\n",
    "            print(dist)\n"
   ]
  },
  {
   "cell_type": "code",
   "execution_count": 24,
   "metadata": {},
   "outputs": [
    {
     "name": "stdout",
     "output_type": "stream",
     "text": [
      "stat: 637.183, p: 0.000\n",
      "Non-Homocedasticity between age_transformed and trtbps_transformed\n",
      "stat: 634.335, p: 0.000\n",
      "Non-Homocedasticity between age_transformed and chol_transformed\n",
      "stat: 611.599, p: 0.000\n",
      "Non-Homocedasticity between age_transformed and thalachh_transformed\n",
      "stat: 442.544, p: 0.000\n",
      "Non-Homocedasticity between chol_transformed and trtbps_transformed\n",
      "stat: 616.870, p: 0.000\n",
      "Non-Homocedasticity between chol_transformed and thalachh_transformed\n"
     ]
    }
   ],
   "source": [
    "test_homocedasticity(df, extended_cols)"
   ]
  },
  {
   "cell_type": "code",
   "execution_count": 208,
   "metadata": {},
   "outputs": [
    {
     "name": "stdout",
     "output_type": "stream",
     "text": [
      "stat: 0.768, p: 0.381\n",
      "Homocedasticity between age_transformed and trtbps_transformed\n",
      "stat: 0.703, p: 0.402\n",
      "Homocedasticity between age_transformed and chol_transformed\n",
      "stat: 0.009, p: 0.925\n",
      "Homocedasticity between age_transformed and thalachh_transformed\n",
      "stat: 0.001, p: 0.970\n",
      "Homocedasticity between chol_transformed and trtbps_transformed\n",
      "stat: 0.555, p: 0.457\n",
      "Homocedasticity between chol_transformed and thalachh_transformed\n"
     ]
    }
   ],
   "source": [
    "test_homocedasticity(df_scaled, extended_cols)"
   ]
  },
  {
   "cell_type": "markdown",
   "metadata": {},
   "source": [
    "## Testeamos normalidad en columnas scaled (?) -> No afecta. Siguen igual que después de Box-Cox."
   ]
  },
  {
   "cell_type": "code",
   "execution_count": 213,
   "metadata": {},
   "outputs": [
    {
     "name": "stdout",
     "output_type": "stream",
     "text": [
      "Result for age:\n",
      "stat: 0.986370683, p: 0.005798970\n",
      "Non-gaussian distribution\n",
      "\n",
      "Result for age_transformed:\n",
      "stat: 0.988754690, p: 0.019104499\n",
      "Non-gaussian distribution\n",
      "\n",
      "Result for trtbps:\n",
      "stat: 0.965916693, p: 0.000001458\n",
      "Non-gaussian distribution\n",
      "\n",
      "Result for trtbps_transformed:\n",
      "stat: 0.991140485, p: 0.065192305\n",
      "Gaussian distribution\n",
      "\n",
      "Result for chol:\n",
      "stat: 0.946880937, p: 0.000000005\n",
      "Non-gaussian distribution\n",
      "\n",
      "Result for chol_transformed:\n",
      "stat: 0.992872357, p: 0.158228323\n",
      "Gaussian distribution\n",
      "\n",
      "Result for thalachh:\n",
      "stat: 0.976315618, p: 0.000066215\n",
      "Non-gaussian distribution\n",
      "\n",
      "Result for thalachh_transformed:\n",
      "stat: 0.992451131, p: 0.127849057\n",
      "Gaussian distribution\n",
      "\n"
     ]
    }
   ],
   "source": [
    "for col in extended_cols:\n",
    "    test_normality(df_scaled[col])"
   ]
  },
  {
   "cell_type": "code",
   "execution_count": 27,
   "metadata": {},
   "outputs": [],
   "source": [
    "correlation_variables = ['thalachh_transformed', 'chol_transformed', 'trtbps_transformed']"
   ]
  },
  {
   "cell_type": "markdown",
   "metadata": {},
   "source": [
    "## Matriz de correlación para variables normales y homocedasticas"
   ]
  },
  {
   "cell_type": "code",
   "execution_count": 28,
   "metadata": {},
   "outputs": [
    {
     "data": {
      "image/png": "[encoded data removed]",
      "text/plain": [
       "<Figure size 432x288 with 2 Axes>"
      ]
     },
     "metadata": {
      "needs_background": "light"
     },
     "output_type": "display_data"
    }
   ],
   "source": [
    "matrix = df_scaled[correlation_variables].corr(method='pearson').round(2)\n",
    "sns.heatmap(matrix, annot=True)\n",
    "plt.show()"
   ]
  },
  {
   "cell_type": "markdown",
   "metadata": {},
   "source": [
    "### Matriz de correlación para la edad (\"age\")"
   ]
  },
  {
   "cell_type": "code",
   "execution_count": 25,
   "metadata": {},
   "outputs": [
    {
     "data": {
      "image/png": "[encoded data removed]",
      "text/plain": [
       "<Figure size 432x288 with 2 Axes>"
      ]
     },
     "metadata": {
      "needs_background": "light"
     },
     "output_type": "display_data"
    }
   ],
   "source": [
    "matrix = df_scaled[['thalachh_transformed', 'chol_transformed', 'trtbps_transformed', 'age']]\\\n",
    "            .corr(method='spearman').round(2)\n",
    "sns.heatmap(matrix[[\"age\"]], annot=True)\n",
    "plt.show()"
   ]
  },
  {
   "cell_type": "markdown",
   "metadata": {},
   "source": [
    "## Eliminar outliers"
   ]
  },
  {
   "cell_type": "markdown",
   "metadata": {},
   "source": [
    "## Imputación  de valores por KNN"
   ]
  },
  {
   "cell_type": "code",
   "execution_count": 226,
   "metadata": {},
   "outputs": [
    {
     "data": {
      "text/html": [
       "<div>\n",
       "<style scoped>\n",
       "    .dataframe tbody tr th:only-of-type {\n",
       "        vertical-align: middle;\n",
       "    }\n",
       "\n",
       "    .dataframe tbody tr th {\n",
       "        vertical-align: top;\n",
       "    }\n",
       "\n",
       "    .dataframe thead th {\n",
       "        text-align: right;\n",
       "    }\n",
       "</style>\n",
       "<table border=\"1\" class=\"dataframe\">\n",
       "  <thead>\n",
       "    <tr style=\"text-align: right;\">\n",
       "      <th></th>\n",
       "      <th>age</th>\n",
       "      <th>age_transformed</th>\n",
       "      <th>trtbps</th>\n",
       "      <th>trtbps_transformed</th>\n",
       "      <th>chol</th>\n",
       "      <th>chol_transformed</th>\n",
       "      <th>thalachh</th>\n",
       "      <th>thalachh_transformed</th>\n",
       "    </tr>\n",
       "  </thead>\n",
       "  <tbody>\n",
       "    <tr>\n",
       "      <th>0</th>\n",
       "      <td>0.952197</td>\n",
       "      <td>0.956202</td>\n",
       "      <td>0.763956</td>\n",
       "      <td>0.831647</td>\n",
       "      <td>-0.256334</td>\n",
       "      <td>-0.159046</td>\n",
       "      <td>0.015443</td>\n",
       "      <td>-0.081797</td>\n",
       "    </tr>\n",
       "    <tr>\n",
       "      <th>1</th>\n",
       "      <td>-1.915313</td>\n",
       "      <td>-1.831379</td>\n",
       "      <td>-0.092738</td>\n",
       "      <td>0.015355</td>\n",
       "      <td>0.072199</td>\n",
       "      <td>0.187193</td>\n",
       "      <td>1.633471</td>\n",
       "      <td>1.871370</td>\n",
       "    </tr>\n",
       "    <tr>\n",
       "      <th>2</th>\n",
       "      <td>-1.474158</td>\n",
       "      <td>-1.443191</td>\n",
       "      <td>-0.092738</td>\n",
       "      <td>0.015355</td>\n",
       "      <td>-0.816773</td>\n",
       "      <td>-0.819633</td>\n",
       "      <td>0.977514</td>\n",
       "      <td>1.015392</td>\n",
       "    </tr>\n",
       "    <tr>\n",
       "      <th>3</th>\n",
       "      <td>0.180175</td>\n",
       "      <td>0.147847</td>\n",
       "      <td>-0.663867</td>\n",
       "      <td>-0.623700</td>\n",
       "      <td>-0.198357</td>\n",
       "      <td>-0.095954</td>\n",
       "      <td>1.239897</td>\n",
       "      <td>1.347148</td>\n",
       "    </tr>\n",
       "    <tr>\n",
       "      <th>4</th>\n",
       "      <td>0.290464</td>\n",
       "      <td>0.260908</td>\n",
       "      <td>-0.663867</td>\n",
       "      <td>-0.623700</td>\n",
       "      <td>2.082050</td>\n",
       "      <td>1.859985</td>\n",
       "      <td>0.583939</td>\n",
       "      <td>0.544056</td>\n",
       "    </tr>\n",
       "  </tbody>\n",
       "</table>\n",
       "</div>"
      ],
      "text/plain": [
       "        age  age_transformed    trtbps  trtbps_transformed      chol  \\\n",
       "0  0.952197         0.956202  0.763956            0.831647 -0.256334   \n",
       "1 -1.915313        -1.831379 -0.092738            0.015355  0.072199   \n",
       "2 -1.474158        -1.443191 -0.092738            0.015355 -0.816773   \n",
       "3  0.180175         0.147847 -0.663867           -0.623700 -0.198357   \n",
       "4  0.290464         0.260908 -0.663867           -0.623700  2.082050   \n",
       "\n",
       "   chol_transformed  thalachh  thalachh_transformed  \n",
       "0         -0.159046  0.015443             -0.081797  \n",
       "1          0.187193  1.633471              1.871370  \n",
       "2         -0.819633  0.977514              1.015392  \n",
       "3         -0.095954  1.239897              1.347148  \n",
       "4          1.859985  0.583939              0.544056  "
      ]
     },
     "execution_count": 226,
     "metadata": {},
     "output_type": "execute_result"
    }
   ],
   "source": [
    "from sklearn.impute import KNNImputer\n",
    "\n",
    "imputer = KNNImputer(n_neighbors=5)\n",
    "filled_data = imputer.fit_transform(df_scaled)\n",
    "\n",
    "filled_df = pd.DataFrame(filled_data, columns=df_scaled.columns)\n",
    "filled_df.head()"
   ]
  },
  {
   "cell_type": "code",
   "execution_count": null,
   "metadata": {},
   "outputs": [],
   "source": []
  }
 ],
 "metadata": {
  "colab": {
   "authorship_tag": "ABX9TyM+Ozw/bkLqYXNR+RFPgfOq",
   "include_colab_link": true,
   "mount_file_id": "1iSK2CEgdHJtX5SfJ3tmD20RJjzUynqvi",
   "provenance": []
  },
  "kernelspec": {
   "display_name": "Python 3 (ipykernel)",
   "language": "python",
   "name": "python3"
  },
  "language_info": {
   "codemirror_mode": {
    "name": "ipython",
    "version": 3
   },
   "file_extension": ".py",
   "mimetype": "text/x-python",
   "name": "python",
   "nbconvert_exporter": "python",
   "pygments_lexer": "ipython3",
   "version": "3.8.15"
  }
 },
 "nbformat": 4,
 "nbformat_minor": 4
}
