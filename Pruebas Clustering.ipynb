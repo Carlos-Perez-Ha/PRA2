{
 "cells": [
  {
   "cell_type": "code",
   "execution_count": 65,
   "id": "484f5e96-1513-49e7-92bd-f8435eff5900",
   "metadata": {},
   "outputs": [],
   "source": [
    "import pandas as pd\n",
    "import numpy as np\n",
    "from matplotlib import colors\n",
    "import matplotlib.pyplot as plt\n",
    "from sklearn.cluster import OPTICS, cluster_optics_dbscan"
   ]
  },
  {
   "cell_type": "code",
   "execution_count": 134,
   "id": "c44e628c-8fc6-46f1-b221-0fa074887bc2",
   "metadata": {},
   "outputs": [],
   "source": [
    "data = {\"data\": [ 2009, 1, 2, 3, 4, 5, 100, 6, 101]}\n",
    "df = pd.DataFrame(data)\n",
    "\n",
    "features = [\"data\"]"
   ]
  },
  {
   "cell_type": "code",
   "execution_count": 135,
   "id": "ec03849e-dad6-45b5-a5ef-39566527d558",
   "metadata": {},
   "outputs": [
    {
     "name": "stdout",
     "output_type": "stream",
     "text": [
      "   data  order   reach  labels\n",
      "0  2009      0     inf       0\n",
      "1     1      5     3.0       0\n",
      "2     2      2     3.0       0\n",
      "3     3      1     3.0       0\n",
      "4     4      3     2.0       0\n",
      "5     5      4  2004.0       0\n",
      "6   100      7    94.0       0\n",
      "7     6      6     2.0       0\n",
      "8   101      8    95.0       0\n"
     ]
    },
    {
     "data": {
      "text/plain": [
       "Text(0.5, 1.0, 'Reachability Plot')"
      ]
     },
     "execution_count": 135,
     "metadata": {},
     "output_type": "execute_result"
    },
    {
     "data": {
      "image/png": "[encoded data removed]",
      "text/plain": [
       "<Figure size 500x200 with 1 Axes>"
      ]
     },
     "metadata": {},
     "output_type": "display_data"
    }
   ],
   "source": [
    "clust= OPTICS().fit(df[features])\n",
    "\n",
    "space = np.arange(len(df))\n",
    "reachability = clust.reachability_[clust.ordering_]\n",
    "labels = clust.labels_[clust.ordering_]\n",
    "\n",
    "df[\"order\"] = clust.ordering_\n",
    "df[\"reach\"] = clust.reachability_\n",
    "df[\"labels\"] = clust.labels_\n",
    "print(df)\n",
    "\n",
    "norm = colors.Normalize(vmin=0, vmax=max(labels))\n",
    "\n",
    "plt.figure(figsize=(5,2))\n",
    "plt.scatter(space[labels!=-1], reachability[labels!=-1], c=labels[labels!=-1], norm=norm, s=50, cmap=\"Set1\", alpha=.3)\n",
    "plt.scatter(space[labels==-1], reachability[labels==-1], c=\"black\", s=50, alpha=.3, marker=\".\")\n",
    "\n",
    "plt.plot(space, np.full_like(space, 10, dtype=float), \"k--\", alpha=0.5)\n",
    "\n",
    "plt.ylabel(\"Reachability (epsilon distance)\")\n",
    "plt.title(\"Reachability Plot\")"
   ]
  },
  {
   "cell_type": "code",
   "execution_count": 136,
   "id": "4823100d-e285-4fa7-8880-023609e4c3cf",
   "metadata": {},
   "outputs": [],
   "source": [
    "labels_limit = cluster_optics_dbscan(\n",
    "    reachability=clust.reachability_,\n",
    "    core_distances=clust.core_distances_,\n",
    "    ordering=clust.ordering_,\n",
    "    eps=50\n",
    ")"
   ]
  },
  {
   "cell_type": "code",
   "execution_count": 137,
   "id": "28f03cfb-c89a-444d-b680-93160d428b41",
   "metadata": {},
   "outputs": [],
   "source": [
    "df[\"labels_limit\"] = labels_limit"
   ]
  },
  {
   "cell_type": "code",
   "execution_count": 138,
   "id": "92f99562-55ad-4aad-b7db-d0177183f56c",
   "metadata": {},
   "outputs": [
    {
     "data": {
      "text/html": [
       "<div>\n",
       "<style scoped>\n",
       "    .dataframe tbody tr th:only-of-type {\n",
       "        vertical-align: middle;\n",
       "    }\n",
       "\n",
       "    .dataframe tbody tr th {\n",
       "        vertical-align: top;\n",
       "    }\n",
       "\n",
       "    .dataframe thead th {\n",
       "        text-align: right;\n",
       "    }\n",
       "</style>\n",
       "<table border=\"1\" class=\"dataframe\">\n",
       "  <thead>\n",
       "    <tr style=\"text-align: right;\">\n",
       "      <th></th>\n",
       "      <th>data</th>\n",
       "      <th>order</th>\n",
       "      <th>reach</th>\n",
       "      <th>labels</th>\n",
       "      <th>labels_limit</th>\n",
       "    </tr>\n",
       "  </thead>\n",
       "  <tbody>\n",
       "    <tr>\n",
       "      <th>0</th>\n",
       "      <td>2009</td>\n",
       "      <td>0</td>\n",
       "      <td>inf</td>\n",
       "      <td>0</td>\n",
       "      <td>-1</td>\n",
       "    </tr>\n",
       "    <tr>\n",
       "      <th>1</th>\n",
       "      <td>1</td>\n",
       "      <td>5</td>\n",
       "      <td>3.0</td>\n",
       "      <td>0</td>\n",
       "      <td>0</td>\n",
       "    </tr>\n",
       "    <tr>\n",
       "      <th>2</th>\n",
       "      <td>2</td>\n",
       "      <td>2</td>\n",
       "      <td>3.0</td>\n",
       "      <td>0</td>\n",
       "      <td>0</td>\n",
       "    </tr>\n",
       "    <tr>\n",
       "      <th>3</th>\n",
       "      <td>3</td>\n",
       "      <td>1</td>\n",
       "      <td>3.0</td>\n",
       "      <td>0</td>\n",
       "      <td>0</td>\n",
       "    </tr>\n",
       "    <tr>\n",
       "      <th>4</th>\n",
       "      <td>4</td>\n",
       "      <td>3</td>\n",
       "      <td>2.0</td>\n",
       "      <td>0</td>\n",
       "      <td>0</td>\n",
       "    </tr>\n",
       "    <tr>\n",
       "      <th>5</th>\n",
       "      <td>5</td>\n",
       "      <td>4</td>\n",
       "      <td>2004.0</td>\n",
       "      <td>0</td>\n",
       "      <td>0</td>\n",
       "    </tr>\n",
       "    <tr>\n",
       "      <th>6</th>\n",
       "      <td>100</td>\n",
       "      <td>7</td>\n",
       "      <td>94.0</td>\n",
       "      <td>0</td>\n",
       "      <td>-1</td>\n",
       "    </tr>\n",
       "    <tr>\n",
       "      <th>7</th>\n",
       "      <td>6</td>\n",
       "      <td>6</td>\n",
       "      <td>2.0</td>\n",
       "      <td>0</td>\n",
       "      <td>0</td>\n",
       "    </tr>\n",
       "    <tr>\n",
       "      <th>8</th>\n",
       "      <td>101</td>\n",
       "      <td>8</td>\n",
       "      <td>95.0</td>\n",
       "      <td>0</td>\n",
       "      <td>-1</td>\n",
       "    </tr>\n",
       "  </tbody>\n",
       "</table>\n",
       "</div>"
      ],
      "text/plain": [
       "   data  order   reach  labels  labels_limit\n",
       "0  2009      0     inf       0            -1\n",
       "1     1      5     3.0       0             0\n",
       "2     2      2     3.0       0             0\n",
       "3     3      1     3.0       0             0\n",
       "4     4      3     2.0       0             0\n",
       "5     5      4  2004.0       0             0\n",
       "6   100      7    94.0       0            -1\n",
       "7     6      6     2.0       0             0\n",
       "8   101      8    95.0       0            -1"
      ]
     },
     "execution_count": 138,
     "metadata": {},
     "output_type": "execute_result"
    }
   ],
   "source": [
    "df"
   ]
  },
  {
   "cell_type": "code",
   "execution_count": null,
   "id": "0ab24de9-296c-4b00-b793-b32f3559e9f1",
   "metadata": {},
   "outputs": [],
   "source": []
  }
 ],
 "metadata": {
  "kernelspec": {
   "display_name": "Python 3 (ipykernel)",
   "language": "python",
   "name": "python3"
  },
  "language_info": {
   "codemirror_mode": {
    "name": "ipython",
    "version": 3
   },
   "file_extension": ".py",
   "mimetype": "text/x-python",
   "name": "python",
   "nbconvert_exporter": "python",
   "pygments_lexer": "ipython3",
   "version": "3.8.0"
  }
 },
 "nbformat": 4,
 "nbformat_minor": 5
}
