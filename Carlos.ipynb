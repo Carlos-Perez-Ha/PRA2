{
 "cells": [
  {
   "cell_type": "code",
   "execution_count": 2,
   "metadata": {
    "id": "-UqAH5FO4rQx"
   },
   "outputs": [],
   "source": [
    "import pandas as pd\n",
    "import numpy as np\n",
    "from matplotlib import pyplot as plt, colors\n",
    "from matplotlib.cbook import boxplot_stats\n",
    "from sklearn.cluster import OPTICS, cluster_optics_dbscan\n",
    "from scipy import stats"
   ]
  },
  {
   "cell_type": "code",
   "execution_count": 3,
   "metadata": {
    "id": "6GZOsLim5fWm"
   },
   "outputs": [],
   "source": [
    "df = pd.read_csv(\"./datos/heart.csv\")"
   ]
  },
  {
   "cell_type": "code",
   "execution_count": 4,
   "metadata": {},
   "outputs": [
    {
     "data": {
      "text/html": [
       "<div>\n",
       "<style scoped>\n",
       "    .dataframe tbody tr th:only-of-type {\n",
       "        vertical-align: middle;\n",
       "    }\n",
       "\n",
       "    .dataframe tbody tr th {\n",
       "        vertical-align: top;\n",
       "    }\n",
       "\n",
       "    .dataframe thead th {\n",
       "        text-align: right;\n",
       "    }\n",
       "</style>\n",
       "<table border=\"1\" class=\"dataframe\">\n",
       "  <thead>\n",
       "    <tr style=\"text-align: right;\">\n",
       "      <th></th>\n",
       "      <th>age</th>\n",
       "      <th>sex</th>\n",
       "      <th>cp</th>\n",
       "      <th>trtbps</th>\n",
       "      <th>chol</th>\n",
       "      <th>fbs</th>\n",
       "      <th>restecg</th>\n",
       "      <th>thalachh</th>\n",
       "      <th>exng</th>\n",
       "      <th>oldpeak</th>\n",
       "      <th>slp</th>\n",
       "      <th>caa</th>\n",
       "      <th>thall</th>\n",
       "      <th>output</th>\n",
       "    </tr>\n",
       "  </thead>\n",
       "  <tbody>\n",
       "    <tr>\n",
       "      <th>0</th>\n",
       "      <td>63</td>\n",
       "      <td>1</td>\n",
       "      <td>3</td>\n",
       "      <td>145</td>\n",
       "      <td>233</td>\n",
       "      <td>1</td>\n",
       "      <td>0</td>\n",
       "      <td>150</td>\n",
       "      <td>0</td>\n",
       "      <td>2.3</td>\n",
       "      <td>0</td>\n",
       "      <td>0</td>\n",
       "      <td>1</td>\n",
       "      <td>1</td>\n",
       "    </tr>\n",
       "    <tr>\n",
       "      <th>1</th>\n",
       "      <td>37</td>\n",
       "      <td>1</td>\n",
       "      <td>2</td>\n",
       "      <td>130</td>\n",
       "      <td>250</td>\n",
       "      <td>0</td>\n",
       "      <td>1</td>\n",
       "      <td>187</td>\n",
       "      <td>0</td>\n",
       "      <td>3.5</td>\n",
       "      <td>0</td>\n",
       "      <td>0</td>\n",
       "      <td>2</td>\n",
       "      <td>1</td>\n",
       "    </tr>\n",
       "    <tr>\n",
       "      <th>2</th>\n",
       "      <td>41</td>\n",
       "      <td>0</td>\n",
       "      <td>1</td>\n",
       "      <td>130</td>\n",
       "      <td>204</td>\n",
       "      <td>0</td>\n",
       "      <td>0</td>\n",
       "      <td>172</td>\n",
       "      <td>0</td>\n",
       "      <td>1.4</td>\n",
       "      <td>2</td>\n",
       "      <td>0</td>\n",
       "      <td>2</td>\n",
       "      <td>1</td>\n",
       "    </tr>\n",
       "    <tr>\n",
       "      <th>3</th>\n",
       "      <td>56</td>\n",
       "      <td>1</td>\n",
       "      <td>1</td>\n",
       "      <td>120</td>\n",
       "      <td>236</td>\n",
       "      <td>0</td>\n",
       "      <td>1</td>\n",
       "      <td>178</td>\n",
       "      <td>0</td>\n",
       "      <td>0.8</td>\n",
       "      <td>2</td>\n",
       "      <td>0</td>\n",
       "      <td>2</td>\n",
       "      <td>1</td>\n",
       "    </tr>\n",
       "    <tr>\n",
       "      <th>4</th>\n",
       "      <td>57</td>\n",
       "      <td>0</td>\n",
       "      <td>0</td>\n",
       "      <td>120</td>\n",
       "      <td>354</td>\n",
       "      <td>0</td>\n",
       "      <td>1</td>\n",
       "      <td>163</td>\n",
       "      <td>1</td>\n",
       "      <td>0.6</td>\n",
       "      <td>2</td>\n",
       "      <td>0</td>\n",
       "      <td>2</td>\n",
       "      <td>1</td>\n",
       "    </tr>\n",
       "  </tbody>\n",
       "</table>\n",
       "</div>"
      ],
      "text/plain": [
       "   age  sex  cp  trtbps  chol  fbs  restecg  thalachh  exng  oldpeak  slp  \\\n",
       "0   63    1   3     145   233    1        0       150     0      2.3    0   \n",
       "1   37    1   2     130   250    0        1       187     0      3.5    0   \n",
       "2   41    0   1     130   204    0        0       172     0      1.4    2   \n",
       "3   56    1   1     120   236    0        1       178     0      0.8    2   \n",
       "4   57    0   0     120   354    0        1       163     1      0.6    2   \n",
       "\n",
       "   caa  thall  output  \n",
       "0    0      1       1  \n",
       "1    0      2       1  \n",
       "2    0      2       1  \n",
       "3    0      2       1  \n",
       "4    0      2       1  "
      ]
     },
     "execution_count": 4,
     "metadata": {},
     "output_type": "execute_result"
    }
   ],
   "source": [
    "df.head()"
   ]
  },
  {
   "cell_type": "markdown",
   "metadata": {},
   "source": [
    "## Análisis multivariante"
   ]
  },
  {
   "cell_type": "markdown",
   "metadata": {},
   "source": [
    "Seleccionamos las variables numéricas, para realizar una análisis multivariante de valores atípicos "
   ]
  },
  {
   "cell_type": "code",
   "execution_count": 5,
   "metadata": {},
   "outputs": [],
   "source": [
    "features = [\"trtbps\",\"chol\",\"age\",\"thalachh\"]"
   ]
  },
  {
   "cell_type": "markdown",
   "metadata": {},
   "source": [
    "## Boxplot"
   ]
  },
  {
   "cell_type": "markdown",
   "metadata": {},
   "source": [
    "Visualizamos los graficos de caja para tener una referencia monovariante de los valores atípicos extraidos estadísticamente."
   ]
  },
  {
   "cell_type": "code",
   "execution_count": 6,
   "metadata": {},
   "outputs": [
    {
     "data": {
      "text/plain": [
       "<AxesSubplot: >"
      ]
     },
     "execution_count": 6,
     "metadata": {},
     "output_type": "execute_result"
    },
    {
     "data": {
      "image/png": "[encoded data removed]",
      "text/plain": [
       "<Figure size 500x300 with 1 Axes>"
      ]
     },
     "metadata": {},
     "output_type": "display_data"
    }
   ],
   "source": [
    "df[features].plot.box(figsize=(5,3))"
   ]
  },
  {
   "cell_type": "markdown",
   "metadata": {},
   "source": [
    "Imprimimos los valores atípicos"
   ]
  },
  {
   "cell_type": "code",
   "execution_count": 7,
   "metadata": {},
   "outputs": [
    {
     "name": "stdout",
     "output_type": "stream",
     "text": [
      "trtbps [172 178 180 180 200 174 192 178 180]\n",
      "chol [417 564 394 407 409]\n",
      "age []\n",
      "thalachh [71]\n"
     ]
    },
    {
     "data": {
      "text/plain": [
       "[None, None, None, None]"
      ]
     },
     "execution_count": 7,
     "metadata": {},
     "output_type": "execute_result"
    }
   ],
   "source": [
    "stats_boxplot = list(zip(features, boxplot_stats(df[features])))\n",
    "\n",
    "[print(feature, stats[\"fliers\"]) for feature, stats in stats_boxplot]"
   ]
  },
  {
   "cell_type": "markdown",
   "metadata": {},
   "source": [
    "Una vez tenemos los valores de referencia, vamos a clusterizar los datos según las cuatro variables numéricas y confirmar si todos ellos son realmente valores atípicos en un espacio de variables multidimensional."
   ]
  },
  {
   "cell_type": "markdown",
   "metadata": {},
   "source": [
    "## Reachability Plot"
   ]
  },
  {
   "cell_type": "markdown",
   "metadata": {},
   "source": [
    "Escalamos los datos primero"
   ]
  },
  {
   "cell_type": "code",
   "execution_count": 8,
   "metadata": {},
   "outputs": [],
   "source": [
    "from sklearn.preprocessing import MinMaxScaler\n",
    "\n",
    "scaled = MinMaxScaler().fit_transform(df[features])\n",
    "\n",
    "df_scaled = pd.DataFrame(scaled, columns=features)"
   ]
  },
  {
   "cell_type": "markdown",
   "metadata": {},
   "source": [
    "Ejecutamos OPTICS para extraer los clusters de los datos a través de un gráfico de alcanzabilidad"
   ]
  },
  {
   "cell_type": "code",
   "execution_count": 9,
   "metadata": {},
   "outputs": [
    {
     "name": "stdout",
     "output_type": "stream",
     "text": [
      "Number of clusters:  7\n"
     ]
    },
    {
     "data": {
      "image/png": "[encoded data removed]",
      "text/plain": [
       "<Figure size 800x300 with 1 Axes>"
      ]
     },
     "metadata": {},
     "output_type": "display_data"
    }
   ],
   "source": [
    "clust= OPTICS().fit(df_scaled)\n",
    "\n",
    "space = np.arange(len(df_scaled))\n",
    "reachability = clust.reachability_[clust.ordering_]\n",
    "labels = clust.labels_[clust.ordering_]\n",
    "\n",
    "# Normalización de las etiquetas para obtener los colores de los clusters\n",
    "norm = colors.Normalize(vmin=0, vmax=max(labels))\n",
    "\n",
    "plt.figure(figsize=(8, 3))\n",
    "\n",
    "# Plot datos normales\n",
    "plt.scatter(space[labels!=-1], reachability[labels!=-1], c=labels[labels!=-1], norm=norm, s=30, cmap=\"Set1\", alpha=.7)\n",
    "# Plot atipicos\n",
    "plt.scatter(space[labels==-1], reachability[labels==-1], c=\"black\", s=30, alpha=.1, marker=\"+\")\n",
    "\n",
    "# Lineas de corte de extracción eps\n",
    "plt.plot(space, np.full_like(space, .15, dtype=float), \"k--\", alpha=0.5)\n",
    "plt.plot(space, np.full_like(space, .19, dtype=float), \"k-\", alpha=0.5)\n",
    "\n",
    "plt.ylabel(\"Reachability (epsilon distance)\")\n",
    "plt.title(\"Reachability Plot\")\n",
    "\n",
    "print(\"Number of clusters: \",labels.max()+1)"
   ]
  },
  {
   "cell_type": "markdown",
   "metadata": {},
   "source": [
    "Situamos dos lineas de corte para la extracción de los clusters. Una por encima del último cluster en la que la pendiente de los atipicos se vuelve más empinada (donde sólo analizaremos los datos atípicos mas solitarios) y otra justo por debajo del último cluster, para poder comparar los atípicos que extraemos asumiendo que el último cluster es ya extraño."
   ]
  },
  {
   "cell_type": "markdown",
   "metadata": {},
   "source": [
    "Extraemos los atípicos para las dos líneas de corte"
   ]
  },
  {
   "cell_type": "code",
   "execution_count": 10,
   "metadata": {},
   "outputs": [],
   "source": [
    "def extract_cluster_dbscan_eps(eps):\n",
    "    labels = cluster_optics_dbscan(\n",
    "        reachability=clust.reachability_,\n",
    "        core_distances=clust.core_distances_,\n",
    "        ordering=clust.ordering_,\n",
    "        eps=eps\n",
    "    )\n",
    "        \n",
    "    return labels"
   ]
  },
  {
   "cell_type": "code",
   "execution_count": 11,
   "metadata": {},
   "outputs": [
    {
     "name": "stdout",
     "output_type": "stream",
     "text": [
      "Number of clusters atipico_15:  1\n",
      "Number of clusters atipico_19:  1\n"
     ]
    }
   ],
   "source": [
    "labels_15 = extract_cluster_dbscan_eps(.15)\n",
    "labels_19 = extract_cluster_dbscan_eps(.19)\n",
    "\n",
    "df[\"atipico_15\"] = labels_15==-1\n",
    "df[\"atipico_19\"] = labels_19==-1\n",
    "\n",
    "print(\"Number of clusters atipico_15: \",labels_15.max()+1)\n",
    "print(\"Number of clusters atipico_19: \",labels_19.max()+1)"
   ]
  },
  {
   "cell_type": "markdown",
   "metadata": {},
   "source": [
    "### Análisis **trtbps**"
   ]
  },
  {
   "cell_type": "code",
   "execution_count": 12,
   "metadata": {},
   "outputs": [],
   "source": [
    "def print_atipicos(feature, f_pos):\n",
    "    print(\"\\n atipico boxplot: \",sorted(list(stats_boxplot[f_pos][1][\"fliers\"]),reverse=True))\n",
    "    print(\"\\n atipico_cluster_eps_19: \",df.loc[df.atipico_19,feature].sort_values(ascending=False).values)\n",
    "    print(\"\\n atipico_cluster_eps_15: \",df.loc[df.atipico_15,feature].sort_values(ascending=False).values)"
   ]
  },
  {
   "cell_type": "code",
   "execution_count": 13,
   "metadata": {},
   "outputs": [
    {
     "name": "stdout",
     "output_type": "stream",
     "text": [
      "\n",
      " atipico boxplot:  [200, 192, 180, 180, 180, 178, 178, 174, 172]\n",
      "\n",
      " atipico_cluster_eps_19:  [200 192 164 160 140 125 120 115]\n",
      "\n",
      " atipico_cluster_eps_15:  [200 192 180 180 180 178 178 174 170 170 170 170 165 164 160 160 160 160\n",
      " 152 150 150 150 142 140 140 140 140 140 136 134 132 132 130 130 125 120\n",
      " 120 120 120 120 120 115 114 112 110 110 110 110 102 100 100]\n"
     ]
    }
   ],
   "source": [
    "print_atipicos(\"trtbps\", 0)"
   ]
  },
  {
   "cell_type": "markdown",
   "metadata": {},
   "source": [
    "Comparando los atípicos del boxplot y los del cluster con eps 19, vemos que los 180 no están incluidos en el cluser eps 19, así como los 170s. Sin embargo, si los vemos en el cluster eps 15 (que recordemos incluye como outliers los datos del ultimo cluster del Reachability plot). \n",
    "\n",
    "Nuestra propuesta sería eliminar el minimo común múltipo de los tres (valores 200 y 192) e imputar por KNN los dos valores eliminados."
   ]
  },
  {
   "cell_type": "markdown",
   "metadata": {},
   "source": [
    "### Análisis **chol**"
   ]
  },
  {
   "cell_type": "code",
   "execution_count": 14,
   "metadata": {},
   "outputs": [
    {
     "name": "stdout",
     "output_type": "stream",
     "text": [
      "\n",
      " atipico boxplot:  [564, 417, 409, 407, 394]\n",
      "\n",
      " atipico_cluster_eps_19:  [564 360 321 304 288 283 237 176]\n",
      "\n",
      " atipico_cluster_eps_15:  [564 417 409 407 360 353 341 327 326 325 322 321 318 315 311 304 302 302\n",
      " 299 298 289 289 288 288 283 275 274 274 270 269 265 265 249 248 243 239\n",
      " 237 228 227 225 211 204 198 197 178 177 176 167 164 149 126]\n"
     ]
    }
   ],
   "source": [
    "print_atipicos(\"chol\", 1)"
   ]
  },
  {
   "cell_type": "markdown",
   "metadata": {},
   "source": [
    "Sucede lo mismo que con la variable *trtbps*. Solo el valor más extremo (564) se encuentra en los tres grupos de atípicos. Los valores de 400s aparecen en el grupo de eps 15 porque, según el gráfico de alcanzabilidad, representen un cluster de datos bien definido y no son outliers al realizar un análisis multivariante.\n",
    "\n",
    "La propuesta es la misma que antes. Eliminar el minimo común múltipo de los tres (valores 564) e imputar por KNN el valor eliminado."
   ]
  },
  {
   "cell_type": "markdown",
   "metadata": {},
   "source": [
    "### Análisis **Age**\n"
   ]
  },
  {
   "cell_type": "code",
   "execution_count": 15,
   "metadata": {},
   "outputs": [
    {
     "name": "stdout",
     "output_type": "stream",
     "text": [
      "\n",
      " atipico boxplot:  []\n",
      "\n",
      " atipico_cluster_eps_19:  [77 67 67 65 59 56 54 39]\n",
      "\n",
      " atipico_cluster_eps_15:  [77 76 74 71 71 71 70 68 68 67 67 67 66 66 65 65 64 64 63 62 60 59 59 59\n",
      " 59 59 58 58 58 57 57 57 56 56 55 55 55 54 54 51 50 47 46 46 43 42 42 40\n",
      " 39 35 29]\n"
     ]
    }
   ],
   "source": [
    "print_atipicos(\"age\", 2)"
   ]
  },
  {
   "cell_type": "markdown",
   "metadata": {},
   "source": [
    "La edad no tiene atípicos estadísticos, de manera que no eliminamos datos"
   ]
  },
  {
   "cell_type": "markdown",
   "metadata": {},
   "source": [
    "### Análisis **thalachh**"
   ]
  },
  {
   "cell_type": "code",
   "execution_count": 16,
   "metadata": {},
   "outputs": [
    {
     "name": "stdout",
     "output_type": "stream",
     "text": [
      "\n",
      " atipico boxplot:  [71]\n",
      "\n",
      " atipico_cluster_eps_19:  [195 182 162 160 151 133  90  71]\n",
      "\n",
      " atipico_cluster_eps_15:  [202 195 182 173 165 162 162 160 160 159 157 155 154 154 151 151 150 150\n",
      " 146 145 145 145 143 140 140 136 133 132 130 130 128 126 125 125 125 124\n",
      " 122 122 122 121 120 118 117 116 115 114 109  96  90  88  71]\n"
     ]
    }
   ],
   "source": [
    "print_atipicos(\"thalachh\", 3)"
   ]
  },
  {
   "cell_type": "markdown",
   "metadata": {},
   "source": [
    "Como en los casos anteriores, el atípico común a los tres grupos es el valor 71.\n",
    "\n",
    "Proponemos eliminarlo e imputar por KNN"
   ]
  },
  {
   "cell_type": "markdown",
   "metadata": {},
   "source": [
    "## Analisis estadistico entre dos grupos"
   ]
  },
  {
   "cell_type": "markdown",
   "metadata": {},
   "source": [
    "Las variables que vamos a analizar son:\n",
    "\n",
    "- sex (sexo)\n",
    "- trtbps (presión sanguinea en reposo)\n",
    "- chol (colesterol en sangre\n",
    "\n",
    "Con el fin de determinar si las variables *trtbps* y *chol* son candidatas a predecir una mayor probabilidad de ataque al corazón, vamos a determinar si el *sexo* es un factor que afecta a una **diferenciacion estadística** en ambas variables, de manera que nos debamos plantear analizarlas de manera separada para ambos sexos, a nivel de análisis de **Correlación** y **Regresión**.\n",
    "\n",
    "Para ello, vamos a realizr pruebas estadísticas entre los dos grupos de sexo y las variables numéricas:"
   ]
  },
  {
   "cell_type": "code",
   "execution_count": 17,
   "metadata": {},
   "outputs": [],
   "source": [
    "from scipy.stats import boxcox, shapiro, ttest_ind, levene, mannwhitneyu"
   ]
  },
  {
   "cell_type": "markdown",
   "metadata": {},
   "source": [
    "Normalizamos las variables numéricas"
   ]
  },
  {
   "cell_type": "code",
   "execution_count": 18,
   "metadata": {},
   "outputs": [],
   "source": [
    "trtbps_norm = boxcox(df.trtbps)[0]\n",
    "chol_norm = boxcox(df.chol)[0]\n",
    "age_norm = boxcox(df.age)[0]"
   ]
  },
  {
   "cell_type": "markdown",
   "metadata": {},
   "source": [
    "Test de normalidad"
   ]
  },
  {
   "cell_type": "code",
   "execution_count": 38,
   "metadata": {},
   "outputs": [
    {
     "name": "stdout",
     "output_type": "stream",
     "text": [
      "ShapiroResult(statistic=0.9911395907402039, pvalue=0.06516099721193314)\n",
      "ShapiroResult(statistic=0.9928725957870483, pvalue=0.1582442671060562)\n"
     ]
    }
   ],
   "source": [
    "print(shapiro(trtbps_norm))\n",
    "print(shapiro(chol_norm))"
   ]
  },
  {
   "cell_type": "markdown",
   "metadata": {},
   "source": [
    "Ambas variables siguen distribución normal"
   ]
  },
  {
   "cell_type": "markdown",
   "metadata": {},
   "source": [
    "Test de homocedasticidad"
   ]
  },
  {
   "cell_type": "code",
   "execution_count": 45,
   "metadata": {
    "tags": []
   },
   "outputs": [
    {
     "name": "stdout",
     "output_type": "stream",
     "text": [
      "LeveneResult(statistic=1.0659285626419608, pvalue=0.3026957228820938)\n",
      "LeveneResult(statistic=5.713023019522199, pvalue=0.017454338440968237)\n"
     ]
    }
   ],
   "source": [
    "print(levene(trtbps_norm[df.sex==1], trtbps_norm[df.sex==0]))\n",
    "print(levene(chol_norm[df.sex==1], chol_norm[df.sex==0]))"
   ]
  },
  {
   "cell_type": "markdown",
   "metadata": {},
   "source": [
    "Existe homocedasticidad en la variable *trtbps*, pero no en *chol*. Aplicaremos test paramétrico para la primera y no paramétrico para la segunda."
   ]
  },
  {
   "cell_type": "markdown",
   "metadata": {},
   "source": [
    "Test t-student"
   ]
  },
  {
   "cell_type": "code",
   "execution_count": 46,
   "metadata": {},
   "outputs": [
    {
     "name": "stdout",
     "output_type": "stream",
     "text": [
      "Ttest_indResult(statistic=-0.7742151622061374, pvalue=0.43941124853507996)\n"
     ]
    }
   ],
   "source": [
    "print(ttest_ind(trtbps_norm[df.sex==1], trtbps_norm[df.sex==0]))"
   ]
  },
  {
   "cell_type": "markdown",
   "metadata": {},
   "source": [
    "Supera el test"
   ]
  },
  {
   "cell_type": "markdown",
   "metadata": {},
   "source": [
    "Test Mann-Whitney"
   ]
  },
  {
   "cell_type": "code",
   "execution_count": 48,
   "metadata": {},
   "outputs": [
    {
     "name": "stdout",
     "output_type": "stream",
     "text": [
      "MannwhitneyuResult(statistic=8070.0, pvalue=0.008555084861224024)\n"
     ]
    }
   ],
   "source": [
    "print(mannwhitneyu(chol_norm[df.sex==1], chol_norm[df.sex==0]))"
   ]
  },
  {
   "cell_type": "markdown",
   "metadata": {},
   "source": [
    "No supera el test"
   ]
  },
  {
   "cell_type": "markdown",
   "metadata": {},
   "source": [
    "### Conclusion "
   ]
  },
  {
   "cell_type": "markdown",
   "metadata": {},
   "source": [
    "Las variables no pasan las pruebas T-Student y Mann-Whitney, de manera que podemos tratar las muestras respecto del sexo como si fueran de diferentes poblaciones, lo que nos lleva a realizar test estadísticos de Correlación y Regresión de manera independiente también."
   ]
  },
  {
   "cell_type": "markdown",
   "metadata": {},
   "source": [
    "## Regresión logística"
   ]
  },
  {
   "cell_type": "markdown",
   "metadata": {},
   "source": [
    "Como parte de la fase de análisis de datos, queremos probar a realizar una aproximación a un modelo predictivo de la variable *output* a partir de una regresión logística, que nos permita estimar si son buenas candidatas a varibales predictoras. \n",
    "\n",
    "Dadas las conclusiones del análisis estadistico por sexo, vamos a realizar el modelo por separado."
   ]
  },
  {
   "cell_type": "code",
   "execution_count": 22,
   "metadata": {},
   "outputs": [],
   "source": [
    "from sklearn.linear_model import LogisticRegression"
   ]
  },
  {
   "cell_type": "code",
   "execution_count": 19,
   "metadata": {},
   "outputs": [],
   "source": [
    "df_new = pd.DataFrame()\n",
    "df_new[\"trtbps_norm\"] = trtbps_norm\n",
    "df_new[\"thalachh_norm\"] = chol_norm\n",
    "df_new[\"age_norm\"] = age_norm"
   ]
  },
  {
   "cell_type": "code",
   "execution_count": 33,
   "metadata": {},
   "outputs": [],
   "source": [
    "def predict_on_sex():\n",
    "    \n",
    "    X = df_new\n",
    "    y = df.output\n",
    "    \n",
    "    model = LogisticRegression().fit(X, y)\n",
    "    \n",
    "    y_pred = model.predict(df_new)    \n",
    "    \n",
    "    return X, y, y_pred, model"
   ]
  },
  {
   "cell_type": "markdown",
   "metadata": {},
   "source": [
    "### Analisis del modelo"
   ]
  },
  {
   "cell_type": "code",
   "execution_count": 34,
   "metadata": {},
   "outputs": [],
   "source": [
    "X, y, y_pred, model = predict_on_sex()"
   ]
  },
  {
   "cell_type": "code",
   "execution_count": 35,
   "metadata": {},
   "outputs": [],
   "source": [
    "from sklearn.metrics import confusion_matrix, precision_score, recall_score, roc_curve, RocCurveDisplay"
   ]
  },
  {
   "cell_type": "code",
   "execution_count": 36,
   "metadata": {},
   "outputs": [
    {
     "data": {
      "text/plain": [
       "array([[ 64,  74],\n",
       "       [ 48, 117]], dtype=int64)"
      ]
     },
     "execution_count": 36,
     "metadata": {},
     "output_type": "execute_result"
    }
   ],
   "source": [
    "confusion_matrix(y, y_pred)"
   ]
  },
  {
   "cell_type": "code",
   "execution_count": 37,
   "metadata": {},
   "outputs": [
    {
     "name": "stdout",
     "output_type": "stream",
     "text": [
      "Precission: 61.3 %\n",
      "Recall 70.9 %\n"
     ]
    }
   ],
   "source": [
    "precission = precision_score(y, y_pred)\n",
    "print(\"Precission:\",round(precission*100,1),\"%\")\n",
    "recall = recall_score(y, y_pred)\n",
    "print(\"Recall\",round(recall*100,1),\"%\")"
   ]
  },
  {
   "cell_type": "markdown",
   "metadata": {},
   "source": [
    "Visualizamos la curva ROC"
   ]
  },
  {
   "cell_type": "code",
   "execution_count": 38,
   "metadata": {},
   "outputs": [
    {
     "data": {
      "text/plain": [
       "<sklearn.metrics._plot.roc_curve.RocCurveDisplay at 0x25d55d77ac0>"
      ]
     },
     "execution_count": 38,
     "metadata": {},
     "output_type": "execute_result"
    },
    {
     "data": {
      "image/png": "[encoded data removed]",
      "text/plain": [
       "<Figure size 640x480 with 1 Axes>"
      ]
     },
     "metadata": {},
     "output_type": "display_data"
    }
   ],
   "source": [
    "RocCurveDisplay.from_estimator(model, X, y)"
   ]
  },
  {
   "cell_type": "markdown",
   "metadata": {},
   "source": [
    "El AUC está por encima de 0.5, con lo que estamos mejorando la aleatoreidad. Sería interesante incluir el sexo como variable al modelo en el futuro."
   ]
  }
 ],
 "metadata": {
  "colab": {
   "authorship_tag": "ABX9TyM+Ozw/bkLqYXNR+RFPgfOq",
   "include_colab_link": true,
   "mount_file_id": "1iSK2CEgdHJtX5SfJ3tmD20RJjzUynqvi",
   "provenance": []
  },
  "kernelspec": {
   "display_name": "Python 3 (ipykernel)",
   "language": "python",
   "name": "python3"
  },
  "language_info": {
   "codemirror_mode": {
    "name": "ipython",
    "version": 3
   },
   "file_extension": ".py",
   "mimetype": "text/x-python",
   "name": "python",
   "nbconvert_exporter": "python",
   "pygments_lexer": "ipython3",
   "version": "3.9.2"
  }
 },
 "nbformat": 4,
 "nbformat_minor": 4
}
