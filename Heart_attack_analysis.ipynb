{
 "cells": [
  {
   "cell_type": "markdown",
   "metadata": {
    "tags": []
   },
   "source": [
    "## 1. Descripción del dataset"
   ]
  },
  {
   "cell_type": "markdown",
   "metadata": {},
   "source": [
    "El dataset a tratar en la práctica es  https://www.kaggle.com/datasets/rashikrahmanpritom/heart-attack-analysis-prediction-dataset.\n",
    "\n",
    "Se trata de un dataset con 14 variables, las cuales estan asociadas a pacientes con síntomas coronarios y cuyo objetivo es la predicción de la probabilidad (mayor o menor) de tener un ataque al corazón bajo esos síntomas. El dataset es de mucha relevancia, dado que poder entrerar un modelo que anticipe esta circunstancia podría ayudar a salvar muchas vidas. \n",
    "\n",
    "El dataset consta de las siguientes variables:\n",
    "- **age** : Edad del paciente\n",
    "- **sex**: Sexo del paciente, 1: Hombre, 0: Mujer\n",
    "- **cp** : Chest Pain type chest pain type. Tipo de dolor en el pecho. Puede tomar los valores:\n",
    "    - Valor 0: typical angina\n",
    "    - Valor 1: atypical angina\n",
    "    - Valor 2: non-anginal pain\n",
    "    - Valor 3: asymptomatic\n",
    "     \n",
    "    > Aunque en el dataset de referenca de Kaggle de indica que el rango de valores de la variable es [1..4],  analizando el fichero se observa que es [0..3]\n",
    "    \n",
    "- **trtbps** : resting blood pressure (in mm Hg). Presion sanguinea en reposo.\n",
    "- **chol** : cholestoral in mg/dl fetched via BMI sensor. Colesterol en sangre.\n",
    "- **fbs** : (fasting blood sugar > 120 mg/dl) (1 = true; 0 = false). Azúcar en sangre en ayunas por encima de 129 mg/dl. Codificado como 1 Verdadero, 0 Falso.\n",
    "- **restecg** : resting electrocardiographic results. Resultados del electrocardiograma en reposo. Puede tomar los siguientes valores:\n",
    "    - Valor 0: normal\n",
    "    - Valor 1: having ST-T wave abnormality (T wave inversions and/or ST elevation or depression of > 0.05 mV)\n",
    "    - Valor 2: showing probable or definite left ventricular hypertrophy by Estes' criteria.\n",
    "\n",
    "- **thalachh** : maximum heart rate achieved. Frecuencia cardiaca máxima.\n",
    "- **exng**:  \"exercise induced angina\". Angina inducida por el ejercicio. Codificado como 1 \"Si\" 0 \"No\".\n",
    "- **caa**: number of major vessels. Numero de vasos sanguineos mayores. Codificado de 0 a 4. \n",
    "\n",
    "    > En la descripción del dataset de Kaggle se indica que que el rango de la variable es 0..3, sin embargo observando el fichero, se codifica de 0..4. Esto es mas coherente, ya que los vasos mayores del corazón son 5.\n",
    "    \n",
    "- **output** :  Variable objetivo. 0 = menor posibilidad de ataque al corazón 1 = mayor posibilidad de ataque al corazon.\n",
    "\n",
    "El dataset consta de otras tres variables que no están descritas y no conocemos su significado (oldpeak, slp y thall) que no utilizaremos por pruedencia."
   ]
  },
  {
   "cell_type": "raw",
   "metadata": {},
   "source": [
    "A continuación, vamos a visualizar los primeros datos del dataset"
   ]
  },
  {
   "cell_type": "code",
   "execution_count": 1,
   "metadata": {},
   "outputs": [
    {
     "data": {
      "text/html": [
       "<div>\n",
       "<style scoped>\n",
       "    .dataframe tbody tr th:only-of-type {\n",
       "        vertical-align: middle;\n",
       "    }\n",
       "\n",
       "    .dataframe tbody tr th {\n",
       "        vertical-align: top;\n",
       "    }\n",
       "\n",
       "    .dataframe thead th {\n",
       "        text-align: right;\n",
       "    }\n",
       "</style>\n",
       "<table border=\"1\" class=\"dataframe\">\n",
       "  <thead>\n",
       "    <tr style=\"text-align: right;\">\n",
       "      <th></th>\n",
       "      <th>age</th>\n",
       "      <th>sex</th>\n",
       "      <th>cp</th>\n",
       "      <th>trtbps</th>\n",
       "      <th>chol</th>\n",
       "      <th>fbs</th>\n",
       "      <th>restecg</th>\n",
       "      <th>thalachh</th>\n",
       "      <th>exng</th>\n",
       "      <th>oldpeak</th>\n",
       "      <th>slp</th>\n",
       "      <th>caa</th>\n",
       "      <th>thall</th>\n",
       "      <th>output</th>\n",
       "    </tr>\n",
       "  </thead>\n",
       "  <tbody>\n",
       "    <tr>\n",
       "      <th>0</th>\n",
       "      <td>63</td>\n",
       "      <td>1</td>\n",
       "      <td>3</td>\n",
       "      <td>145</td>\n",
       "      <td>233</td>\n",
       "      <td>1</td>\n",
       "      <td>0</td>\n",
       "      <td>150</td>\n",
       "      <td>0</td>\n",
       "      <td>2.3</td>\n",
       "      <td>0</td>\n",
       "      <td>0</td>\n",
       "      <td>1</td>\n",
       "      <td>1</td>\n",
       "    </tr>\n",
       "    <tr>\n",
       "      <th>1</th>\n",
       "      <td>37</td>\n",
       "      <td>1</td>\n",
       "      <td>2</td>\n",
       "      <td>130</td>\n",
       "      <td>250</td>\n",
       "      <td>0</td>\n",
       "      <td>1</td>\n",
       "      <td>187</td>\n",
       "      <td>0</td>\n",
       "      <td>3.5</td>\n",
       "      <td>0</td>\n",
       "      <td>0</td>\n",
       "      <td>2</td>\n",
       "      <td>1</td>\n",
       "    </tr>\n",
       "    <tr>\n",
       "      <th>2</th>\n",
       "      <td>41</td>\n",
       "      <td>0</td>\n",
       "      <td>1</td>\n",
       "      <td>130</td>\n",
       "      <td>204</td>\n",
       "      <td>0</td>\n",
       "      <td>0</td>\n",
       "      <td>172</td>\n",
       "      <td>0</td>\n",
       "      <td>1.4</td>\n",
       "      <td>2</td>\n",
       "      <td>0</td>\n",
       "      <td>2</td>\n",
       "      <td>1</td>\n",
       "    </tr>\n",
       "    <tr>\n",
       "      <th>3</th>\n",
       "      <td>56</td>\n",
       "      <td>1</td>\n",
       "      <td>1</td>\n",
       "      <td>120</td>\n",
       "      <td>236</td>\n",
       "      <td>0</td>\n",
       "      <td>1</td>\n",
       "      <td>178</td>\n",
       "      <td>0</td>\n",
       "      <td>0.8</td>\n",
       "      <td>2</td>\n",
       "      <td>0</td>\n",
       "      <td>2</td>\n",
       "      <td>1</td>\n",
       "    </tr>\n",
       "    <tr>\n",
       "      <th>4</th>\n",
       "      <td>57</td>\n",
       "      <td>0</td>\n",
       "      <td>0</td>\n",
       "      <td>120</td>\n",
       "      <td>354</td>\n",
       "      <td>0</td>\n",
       "      <td>1</td>\n",
       "      <td>163</td>\n",
       "      <td>1</td>\n",
       "      <td>0.6</td>\n",
       "      <td>2</td>\n",
       "      <td>0</td>\n",
       "      <td>2</td>\n",
       "      <td>1</td>\n",
       "    </tr>\n",
       "  </tbody>\n",
       "</table>\n",
       "</div>"
      ],
      "text/plain": [
       "   age  sex  cp  trtbps  chol  fbs  restecg  thalachh  exng  oldpeak  slp  \\\n",
       "0   63    1   3     145   233    1        0       150     0      2.3    0   \n",
       "1   37    1   2     130   250    0        1       187     0      3.5    0   \n",
       "2   41    0   1     130   204    0        0       172     0      1.4    2   \n",
       "3   56    1   1     120   236    0        1       178     0      0.8    2   \n",
       "4   57    0   0     120   354    0        1       163     1      0.6    2   \n",
       "\n",
       "   caa  thall  output  \n",
       "0    0      1       1  \n",
       "1    0      2       1  \n",
       "2    0      2       1  \n",
       "3    0      2       1  \n",
       "4    0      2       1  "
      ]
     },
     "execution_count": 1,
     "metadata": {},
     "output_type": "execute_result"
    }
   ],
   "source": [
    "import warnings\n",
    "import pandas as pd\n",
    "from matplotlib import pyplot as plt, colors\n",
    "\n",
    "warnings.filterwarnings('ignore')\n",
    "\n",
    "raw_data = pd.read_csv(\"./datos/heart.csv\")\n",
    "df = raw_data.copy()\n",
    "df.head()"
   ]
  },
  {
   "cell_type": "markdown",
   "metadata": {
    "tags": []
   },
   "source": [
    "## 2. Integración y selección"
   ]
  },
  {
   "cell_type": "markdown",
   "metadata": {},
   "source": [
    "El dataset contiene toda la información necesaria por sí mismo, sin necesidad de integrarlo con otras fuentes.\n",
    "\n",
    "Sin embargo, vamos a integrarlo con ficheros que contienen las descripciones de los campos categoricos del dataset, de manera que sea más fácil su interpretación y trabajo con los datos.\n",
    "\n",
    "Después de la integración de cada fichero, borraremos la columna de cruce del fichero integrado, para no duplicar la columna."
   ]
  },
  {
   "cell_type": "markdown",
   "metadata": {},
   "source": [
    "#### Exang"
   ]
  },
  {
   "cell_type": "code",
   "execution_count": 2,
   "metadata": {
    "id": "6GZOsLim5fWm"
   },
   "outputs": [],
   "source": [
    "df_exang = pd.read_csv(\"./datos/exang.csv\")"
   ]
  },
  {
   "cell_type": "code",
   "execution_count": 3,
   "metadata": {},
   "outputs": [],
   "source": [
    "df = df.merge(df_exang, how=\"left\", left_on=\"exng\", right_on=\"id_exang\").drop([\"id_exang\"], axis=1)"
   ]
  },
  {
   "cell_type": "markdown",
   "metadata": {
    "tags": []
   },
   "source": [
    "#### Chest pain"
   ]
  },
  {
   "cell_type": "code",
   "execution_count": 4,
   "metadata": {},
   "outputs": [],
   "source": [
    "df_cp = pd.read_csv(\"./datos/chest_pain.csv\")"
   ]
  },
  {
   "cell_type": "code",
   "execution_count": 5,
   "metadata": {},
   "outputs": [],
   "source": [
    "df = df.merge(df_cp, left_on=\"cp\", right_on=\"id_cp\", how=\"left\").drop([\"id_cp\"], axis=1)"
   ]
  },
  {
   "cell_type": "markdown",
   "metadata": {},
   "source": [
    "#### Fasting Blood Sugar"
   ]
  },
  {
   "cell_type": "code",
   "execution_count": 6,
   "metadata": {},
   "outputs": [],
   "source": [
    "df.loc[df.fbs == 1, 'desc_fbs'] = 'Fasting Blood Sugar > 120 mg/dl'\n",
    "df.loc[df.fbs == 0, 'desc_fbs'] = 'Fasting Blood Sugar < 120 mg/dl'"
   ]
  },
  {
   "cell_type": "markdown",
   "metadata": {},
   "source": [
    "#### Sex"
   ]
  },
  {
   "cell_type": "code",
   "execution_count": 7,
   "metadata": {},
   "outputs": [],
   "source": [
    "df.loc[df.sex == 1, 'desc_sex'] = 'Man'\n",
    "df.loc[df.sex == 0, 'desc_sex'] = 'Woman'"
   ]
  },
  {
   "cell_type": "markdown",
   "metadata": {},
   "source": [
    "#### ResteCG\n"
   ]
  },
  {
   "cell_type": "code",
   "execution_count": 8,
   "metadata": {},
   "outputs": [],
   "source": [
    "df.loc[df.restecg == 2, 'desc_restecg'] = 'Left Ventricular atrophy'\n",
    "df.loc[df.restecg == 1, 'desc_restecg'] = 'ST-T Wave abnormality'\n",
    "df.loc[df.restecg == 0, 'desc_restecg'] = 'Normal'"
   ]
  },
  {
   "cell_type": "markdown",
   "metadata": {},
   "source": [
    "#### Output"
   ]
  },
  {
   "cell_type": "code",
   "execution_count": 9,
   "metadata": {},
   "outputs": [],
   "source": [
    "df.loc[df.output == 1, 'desc_output'] = 'High heart attack risk'\n",
    "df.loc[df.output == 0, 'desc_output'] = 'Low heart attack risk'"
   ]
  },
  {
   "cell_type": "markdown",
   "metadata": {},
   "source": [
    "Borramos las columnas que no vamos a utilizar:"
   ]
  },
  {
   "cell_type": "code",
   "execution_count": 10,
   "metadata": {},
   "outputs": [],
   "source": [
    "df = df.drop([\"oldpeak\", \"slp\", \"thall\"], axis=1)"
   ]
  },
  {
   "cell_type": "markdown",
   "metadata": {},
   "source": [
    "Visualizamos el dataset final una vez generadas todas las descripciones para columnas categóricas."
   ]
  },
  {
   "cell_type": "markdown",
   "metadata": {},
   "source": [
    "## 3. Limpieza de los datos."
   ]
  },
  {
   "cell_type": "markdown",
   "metadata": {},
   "source": [
    "### - Valores nulos"
   ]
  },
  {
   "cell_type": "markdown",
   "metadata": {},
   "source": [
    "Obenemos un listado de las columnas que tienen nulos y el porcentaje que representan sobre el total de datos."
   ]
  },
  {
   "cell_type": "code",
   "execution_count": 11,
   "metadata": {},
   "outputs": [
    {
     "data": {
      "text/plain": [
       "age             0.0\n",
       "sex             0.0\n",
       "cp              0.0\n",
       "trtbps          0.0\n",
       "chol            0.0\n",
       "fbs             0.0\n",
       "restecg         0.0\n",
       "thalachh        0.0\n",
       "exng            0.0\n",
       "caa             0.0\n",
       "output          0.0\n",
       "desc_exang      0.0\n",
       "desc_cp         0.0\n",
       "desc_fbs        0.0\n",
       "desc_sex        0.0\n",
       "desc_restecg    0.0\n",
       "desc_output     0.0\n",
       "dtype: float64"
      ]
     },
     "execution_count": 11,
     "metadata": {},
     "output_type": "execute_result"
    }
   ],
   "source": [
    "df.apply(lambda x: sum(x.isnull())/len(x))"
   ]
  },
  {
   "cell_type": "markdown",
   "metadata": {},
   "source": [
    "Como vemos, no existen valores nulos que representen pérdida de información."
   ]
  },
  {
   "cell_type": "markdown",
   "metadata": {},
   "source": [
    "### - Valores extremos"
   ]
  },
  {
   "cell_type": "markdown",
   "metadata": {},
   "source": [
    "En el análisis de valores extremos nos fijaremos en las siguientes variables, ya que son las que tienen dominios contínuos y para las que tiene sentido realizar este análisis."
   ]
  },
  {
   "cell_type": "code",
   "execution_count": 12,
   "metadata": {},
   "outputs": [],
   "source": [
    "features = [\"trtbps\",\"chol\",\"age\",\"thalachh\"]"
   ]
  },
  {
   "cell_type": "markdown",
   "metadata": {},
   "source": [
    "#### Análisis univariante"
   ]
  },
  {
   "cell_type": "markdown",
   "metadata": {},
   "source": [
    "Para detectar los outliers univariantes, realizamos un box plot y buscamos puntos identificados como atípicos. Dado que no disponemos de muchos datos, en vez de eliminarlos, una vez identificados los marcaremos como Null e imputaremos utilizando kNN. De esta manera podremos obtener distribuciones más normales para los análisis posteriores del apartado 5."
   ]
  },
  {
   "cell_type": "markdown",
   "metadata": {},
   "source": [
    "**Identificación de valores extremos**"
   ]
  },
  {
   "cell_type": "code",
   "execution_count": 13,
   "metadata": {},
   "outputs": [
    {
     "data": {
      "text/plain": [
       "<AxesSubplot: >"
      ]
     },
     "execution_count": 13,
     "metadata": {},
     "output_type": "execute_result"
    },
    {
     "data": {
      "image/png": "[encoded data removed]",
      "text/plain": [
       "<Figure size 288x360 with 1 Axes>"
      ]
     },
     "metadata": {
      "needs_background": "light"
     },
     "output_type": "display_data"
    }
   ],
   "source": [
    "df[features].plot.box(figsize=(4,5))"
   ]
  },
  {
   "cell_type": "markdown",
   "metadata": {},
   "source": [
    "Imprimimos los valores atípicos:"
   ]
  },
  {
   "cell_type": "code",
   "execution_count": 14,
   "metadata": {},
   "outputs": [
    {
     "name": "stdout",
     "output_type": "stream",
     "text": [
      "trtbps [172 178 180 180 200 174 192 178 180]\n",
      "chol [417 564 394 407 409]\n",
      "age []\n",
      "thalachh [71]\n"
     ]
    }
   ],
   "source": [
    "from matplotlib.cbook import boxplot_stats\n",
    "\n",
    "stats_boxplot = list(zip(features, boxplot_stats(df[features])))\n",
    "\n",
    "_ = [print(feature, stats[\"fliers\"]) for feature, stats in stats_boxplot]"
   ]
  },
  {
   "cell_type": "markdown",
   "metadata": {},
   "source": [
    "**Eliminación de valores extremos**"
   ]
  },
  {
   "cell_type": "code",
   "execution_count": 15,
   "metadata": {},
   "outputs": [],
   "source": [
    "for feature, stats in stats_boxplot:\n",
    "    for stat in stats[\"fliers\"]:\n",
    "        df[feature].replace({stat: None}, inplace=True)"
   ]
  },
  {
   "cell_type": "markdown",
   "metadata": {},
   "source": [
    "**Imputación de valores extremos**"
   ]
  },
  {
   "cell_type": "code",
   "execution_count": 16,
   "metadata": {},
   "outputs": [
    {
     "data": {
      "text/html": [
       "<div>\n",
       "<style scoped>\n",
       "    .dataframe tbody tr th:only-of-type {\n",
       "        vertical-align: middle;\n",
       "    }\n",
       "\n",
       "    .dataframe tbody tr th {\n",
       "        vertical-align: top;\n",
       "    }\n",
       "\n",
       "    .dataframe thead th {\n",
       "        text-align: right;\n",
       "    }\n",
       "</style>\n",
       "<table border=\"1\" class=\"dataframe\">\n",
       "  <thead>\n",
       "    <tr style=\"text-align: right;\">\n",
       "      <th></th>\n",
       "      <th>age</th>\n",
       "      <th>sex</th>\n",
       "      <th>cp</th>\n",
       "      <th>trtbps</th>\n",
       "      <th>chol</th>\n",
       "      <th>fbs</th>\n",
       "      <th>restecg</th>\n",
       "      <th>thalachh</th>\n",
       "      <th>exng</th>\n",
       "      <th>caa</th>\n",
       "      <th>output</th>\n",
       "      <th>desc_exang</th>\n",
       "      <th>desc_cp</th>\n",
       "      <th>desc_fbs</th>\n",
       "      <th>desc_sex</th>\n",
       "      <th>desc_restecg</th>\n",
       "      <th>desc_output</th>\n",
       "    </tr>\n",
       "  </thead>\n",
       "  <tbody>\n",
       "    <tr>\n",
       "      <th>0</th>\n",
       "      <td>63.0</td>\n",
       "      <td>1</td>\n",
       "      <td>3</td>\n",
       "      <td>145.0</td>\n",
       "      <td>233.0</td>\n",
       "      <td>1</td>\n",
       "      <td>0</td>\n",
       "      <td>150.0</td>\n",
       "      <td>0</td>\n",
       "      <td>0</td>\n",
       "      <td>1</td>\n",
       "      <td>no</td>\n",
       "      <td>asymptomatic</td>\n",
       "      <td>Fasting Blood Sugar &gt; 120 mg/dl</td>\n",
       "      <td>Man</td>\n",
       "      <td>Normal</td>\n",
       "      <td>High heart attack risk</td>\n",
       "    </tr>\n",
       "    <tr>\n",
       "      <th>1</th>\n",
       "      <td>37.0</td>\n",
       "      <td>1</td>\n",
       "      <td>2</td>\n",
       "      <td>130.0</td>\n",
       "      <td>250.0</td>\n",
       "      <td>0</td>\n",
       "      <td>1</td>\n",
       "      <td>187.0</td>\n",
       "      <td>0</td>\n",
       "      <td>0</td>\n",
       "      <td>1</td>\n",
       "      <td>no</td>\n",
       "      <td>non-anginal pain</td>\n",
       "      <td>Fasting Blood Sugar &lt; 120 mg/dl</td>\n",
       "      <td>Man</td>\n",
       "      <td>ST-T Wave abnormality</td>\n",
       "      <td>High heart attack risk</td>\n",
       "    </tr>\n",
       "    <tr>\n",
       "      <th>2</th>\n",
       "      <td>41.0</td>\n",
       "      <td>0</td>\n",
       "      <td>1</td>\n",
       "      <td>130.0</td>\n",
       "      <td>204.0</td>\n",
       "      <td>0</td>\n",
       "      <td>0</td>\n",
       "      <td>172.0</td>\n",
       "      <td>0</td>\n",
       "      <td>0</td>\n",
       "      <td>1</td>\n",
       "      <td>no</td>\n",
       "      <td>atypical angina</td>\n",
       "      <td>Fasting Blood Sugar &lt; 120 mg/dl</td>\n",
       "      <td>Woman</td>\n",
       "      <td>Normal</td>\n",
       "      <td>High heart attack risk</td>\n",
       "    </tr>\n",
       "    <tr>\n",
       "      <th>3</th>\n",
       "      <td>56.0</td>\n",
       "      <td>1</td>\n",
       "      <td>1</td>\n",
       "      <td>120.0</td>\n",
       "      <td>236.0</td>\n",
       "      <td>0</td>\n",
       "      <td>1</td>\n",
       "      <td>178.0</td>\n",
       "      <td>0</td>\n",
       "      <td>0</td>\n",
       "      <td>1</td>\n",
       "      <td>no</td>\n",
       "      <td>atypical angina</td>\n",
       "      <td>Fasting Blood Sugar &lt; 120 mg/dl</td>\n",
       "      <td>Man</td>\n",
       "      <td>ST-T Wave abnormality</td>\n",
       "      <td>High heart attack risk</td>\n",
       "    </tr>\n",
       "    <tr>\n",
       "      <th>4</th>\n",
       "      <td>57.0</td>\n",
       "      <td>0</td>\n",
       "      <td>0</td>\n",
       "      <td>120.0</td>\n",
       "      <td>354.0</td>\n",
       "      <td>0</td>\n",
       "      <td>1</td>\n",
       "      <td>163.0</td>\n",
       "      <td>1</td>\n",
       "      <td>0</td>\n",
       "      <td>1</td>\n",
       "      <td>yes</td>\n",
       "      <td>typical angina</td>\n",
       "      <td>Fasting Blood Sugar &lt; 120 mg/dl</td>\n",
       "      <td>Woman</td>\n",
       "      <td>ST-T Wave abnormality</td>\n",
       "      <td>High heart attack risk</td>\n",
       "    </tr>\n",
       "  </tbody>\n",
       "</table>\n",
       "</div>"
      ],
      "text/plain": [
       "    age  sex  cp  trtbps   chol  fbs  restecg  thalachh  exng  caa  output  \\\n",
       "0  63.0    1   3   145.0  233.0    1        0     150.0     0    0       1   \n",
       "1  37.0    1   2   130.0  250.0    0        1     187.0     0    0       1   \n",
       "2  41.0    0   1   130.0  204.0    0        0     172.0     0    0       1   \n",
       "3  56.0    1   1   120.0  236.0    0        1     178.0     0    0       1   \n",
       "4  57.0    0   0   120.0  354.0    0        1     163.0     1    0       1   \n",
       "\n",
       "  desc_exang            desc_cp                         desc_fbs desc_sex  \\\n",
       "0         no       asymptomatic  Fasting Blood Sugar > 120 mg/dl      Man   \n",
       "1         no   non-anginal pain  Fasting Blood Sugar < 120 mg/dl      Man   \n",
       "2         no    atypical angina  Fasting Blood Sugar < 120 mg/dl    Woman   \n",
       "3         no    atypical angina  Fasting Blood Sugar < 120 mg/dl      Man   \n",
       "4        yes     typical angina  Fasting Blood Sugar < 120 mg/dl    Woman   \n",
       "\n",
       "            desc_restecg             desc_output  \n",
       "0                 Normal  High heart attack risk  \n",
       "1  ST-T Wave abnormality  High heart attack risk  \n",
       "2                 Normal  High heart attack risk  \n",
       "3  ST-T Wave abnormality  High heart attack risk  \n",
       "4  ST-T Wave abnormality  High heart attack risk  "
      ]
     },
     "execution_count": 16,
     "metadata": {},
     "output_type": "execute_result"
    }
   ],
   "source": [
    "from sklearn.impute import KNNImputer\n",
    "\n",
    "imputer = KNNImputer(n_neighbors=5)\n",
    "df[features] = imputer.fit_transform(df[features])\n",
    "\n",
    "df[features] = pd.DataFrame(df, columns=df[features].columns)\n",
    "df.head()"
   ]
  },
  {
   "cell_type": "markdown",
   "metadata": {},
   "source": [
    "Ahora podemos comprobar mediante un Box Plot que ya no obtenemos valores extremos mediante análisis univariante."
   ]
  },
  {
   "cell_type": "code",
   "execution_count": 17,
   "metadata": {},
   "outputs": [
    {
     "data": {
      "text/plain": [
       "<AxesSubplot: >"
      ]
     },
     "execution_count": 17,
     "metadata": {},
     "output_type": "execute_result"
    },
    {
     "data": {
      "image/png": "[encoded data removed]",
      "text/plain": [
       "<Figure size 288x360 with 1 Axes>"
      ]
     },
     "metadata": {
      "needs_background": "light"
     },
     "output_type": "display_data"
    }
   ],
   "source": [
    "df[features].plot.box(figsize=(4,5))"
   ]
  },
  {
   "cell_type": "markdown",
   "metadata": {},
   "source": [
    "#### Análisis multivariante"
   ]
  },
  {
   "cell_type": "markdown",
   "metadata": {},
   "source": [
    "El siguiente paso será verificar si existen valores extremos mediante análisis multivariante. Esto nos permitirá identificar los puntos que se encuentran muy alejados del conjunto global de los datos y realizar un tratamiento sobre ellos si se requiere.\n",
    "\n",
    "Para identificar los valores extremos, realizaremos una clusterización utilizando OPTICS. El primer paso para ello será escalar los datos, utilizaremos MinMax."
   ]
  },
  {
   "cell_type": "code",
   "execution_count": 18,
   "metadata": {},
   "outputs": [],
   "source": [
    "from sklearn.preprocessing import MinMaxScaler\n",
    "\n",
    "scaled = MinMaxScaler().fit_transform(df[features])\n",
    "\n",
    "df_scaled = pd.DataFrame(scaled, columns=features)"
   ]
  },
  {
   "cell_type": "code",
   "execution_count": 19,
   "metadata": {},
   "outputs": [
    {
     "name": "stdout",
     "output_type": "stream",
     "text": [
      "Number of clusters:  9\n"
     ]
    },
    {
     "data": {
      "image/png": "[encoded data removed]",
      "text/plain": [
       "<Figure size 720x432 with 1 Axes>"
      ]
     },
     "metadata": {
      "needs_background": "light"
     },
     "output_type": "display_data"
    }
   ],
   "source": [
    "import numpy as np\n",
    "\n",
    "from sklearn.cluster import OPTICS, cluster_optics_dbscan\n",
    "\n",
    "cut_line_1 = .17# .19\n",
    "cut_line_2 = .195# .22\n",
    "\n",
    "clust= OPTICS().fit(df_scaled)\n",
    "\n",
    "space = np.arange(len(df_scaled))\n",
    "reachability = clust.reachability_[clust.ordering_]\n",
    "labels = clust.labels_[clust.ordering_]\n",
    "\n",
    "# Normalización de las etiquetas para obtener los colores de los clusters\n",
    "norm = colors.Normalize(vmin=0, vmax=max(labels))\n",
    "\n",
    "plt.figure(figsize=(10, 6))\n",
    "\n",
    "# Plot datos normales\n",
    "plt.scatter(space[labels!=-1], reachability[labels!=-1], c=labels[labels!=-1], norm=norm, s=30, cmap=\"Set1\", alpha=.7)\n",
    "# Plot atipicos\n",
    "plt.scatter(space[labels==-1], reachability[labels==-1], c=\"black\", s=30, alpha=.1, marker=\"+\")\n",
    "\n",
    "# Lineas de corte de extracción eps\n",
    "plt.plot(space, np.full_like(space, cut_line_1, dtype=float), \"k--\", alpha=0.5)\n",
    "plt.plot(space, np.full_like(space, cut_line_2, dtype=float), \"k-\", alpha=0.5)\n",
    "\n",
    "plt.ylabel(\"Reachability (epsilon distance)\")\n",
    "plt.title(\"Reachability Plot\")\n",
    "\n",
    "print(\"Number of clusters: \",labels.max()+1)"
   ]
  },
  {
   "cell_type": "markdown",
   "metadata": {},
   "source": [
    "Situamos dos lineas de corte para la extracción de los clusters. Una por encima del último cluster en la que la pendiente de los atipicos se vuelve más empinada (donde sólo analizaremos los datos atípicos mas solitarios) y otra justo por debajo del último cluster, para poder comparar los atípicos que extraemos asumiendo que el último cluster es ya extraño."
   ]
  },
  {
   "cell_type": "code",
   "execution_count": 20,
   "metadata": {},
   "outputs": [],
   "source": [
    "def extract_cluster_dbscan_eps(eps):\n",
    "    labels = cluster_optics_dbscan(\n",
    "        reachability=clust.reachability_,\n",
    "        core_distances=clust.core_distances_,\n",
    "        ordering=clust.ordering_,\n",
    "        eps=eps\n",
    "    )\n",
    "        \n",
    "    return labels"
   ]
  },
  {
   "cell_type": "code",
   "execution_count": 21,
   "metadata": {},
   "outputs": [
    {
     "name": "stdout",
     "output_type": "stream",
     "text": [
      "Number of clusters atipico_1:  3\n",
      "Number of clusters atipico_2:  1\n"
     ]
    }
   ],
   "source": [
    "labels_1 = extract_cluster_dbscan_eps(cut_line_1)\n",
    "labels_2 = extract_cluster_dbscan_eps(cut_line_2)\n",
    "\n",
    "df[\"atipico_1\"] = labels_1 == -1\n",
    "df[\"atipico_2\"] = labels_2 == -1\n",
    "\n",
    "print(\"Number of clusters atipico_1: \",labels_1.max() + 1)\n",
    "print(\"Number of clusters atipico_2: \",labels_2.max() + 1)"
   ]
  },
  {
   "cell_type": "markdown",
   "metadata": {},
   "source": [
    "A continuación, visualizamos los registros que se están identificando como outliers:"
   ]
  },
  {
   "cell_type": "code",
   "execution_count": 22,
   "metadata": {},
   "outputs": [
    {
     "data": {
      "text/html": [
       "<div>\n",
       "<style scoped>\n",
       "    .dataframe tbody tr th:only-of-type {\n",
       "        vertical-align: middle;\n",
       "    }\n",
       "\n",
       "    .dataframe tbody tr th {\n",
       "        vertical-align: top;\n",
       "    }\n",
       "\n",
       "    .dataframe thead th {\n",
       "        text-align: right;\n",
       "    }\n",
       "</style>\n",
       "<table border=\"1\" class=\"dataframe\">\n",
       "  <thead>\n",
       "    <tr style=\"text-align: right;\">\n",
       "      <th></th>\n",
       "      <th>age</th>\n",
       "      <th>sex</th>\n",
       "      <th>cp</th>\n",
       "      <th>trtbps</th>\n",
       "      <th>chol</th>\n",
       "      <th>fbs</th>\n",
       "      <th>restecg</th>\n",
       "      <th>thalachh</th>\n",
       "      <th>exng</th>\n",
       "      <th>caa</th>\n",
       "      <th>output</th>\n",
       "      <th>desc_exang</th>\n",
       "      <th>desc_cp</th>\n",
       "      <th>desc_fbs</th>\n",
       "      <th>desc_sex</th>\n",
       "      <th>desc_restecg</th>\n",
       "      <th>desc_output</th>\n",
       "      <th>atipico_1</th>\n",
       "      <th>atipico_2</th>\n",
       "    </tr>\n",
       "  </thead>\n",
       "  <tbody>\n",
       "    <tr>\n",
       "      <th>39</th>\n",
       "      <td>65.0</td>\n",
       "      <td>0</td>\n",
       "      <td>2</td>\n",
       "      <td>160.0</td>\n",
       "      <td>360.0</td>\n",
       "      <td>0</td>\n",
       "      <td>0</td>\n",
       "      <td>151.0</td>\n",
       "      <td>0</td>\n",
       "      <td>0</td>\n",
       "      <td>1</td>\n",
       "      <td>no</td>\n",
       "      <td>non-anginal pain</td>\n",
       "      <td>Fasting Blood Sugar &lt; 120 mg/dl</td>\n",
       "      <td>Woman</td>\n",
       "      <td>Normal</td>\n",
       "      <td>High heart attack risk</td>\n",
       "      <td>True</td>\n",
       "      <td>True</td>\n",
       "    </tr>\n",
       "    <tr>\n",
       "      <th>44</th>\n",
       "      <td>39.0</td>\n",
       "      <td>1</td>\n",
       "      <td>2</td>\n",
       "      <td>140.0</td>\n",
       "      <td>321.0</td>\n",
       "      <td>0</td>\n",
       "      <td>0</td>\n",
       "      <td>182.0</td>\n",
       "      <td>0</td>\n",
       "      <td>0</td>\n",
       "      <td>1</td>\n",
       "      <td>no</td>\n",
       "      <td>non-anginal pain</td>\n",
       "      <td>Fasting Blood Sugar &lt; 120 mg/dl</td>\n",
       "      <td>Man</td>\n",
       "      <td>Normal</td>\n",
       "      <td>High heart attack risk</td>\n",
       "      <td>True</td>\n",
       "      <td>True</td>\n",
       "    </tr>\n",
       "    <tr>\n",
       "      <th>53</th>\n",
       "      <td>44.0</td>\n",
       "      <td>0</td>\n",
       "      <td>2</td>\n",
       "      <td>108.0</td>\n",
       "      <td>141.0</td>\n",
       "      <td>0</td>\n",
       "      <td>1</td>\n",
       "      <td>175.0</td>\n",
       "      <td>0</td>\n",
       "      <td>0</td>\n",
       "      <td>1</td>\n",
       "      <td>no</td>\n",
       "      <td>non-anginal pain</td>\n",
       "      <td>Fasting Blood Sugar &lt; 120 mg/dl</td>\n",
       "      <td>Woman</td>\n",
       "      <td>ST-T Wave abnormality</td>\n",
       "      <td>High heart attack risk</td>\n",
       "      <td>True</td>\n",
       "      <td>True</td>\n",
       "    </tr>\n",
       "    <tr>\n",
       "      <th>60</th>\n",
       "      <td>71.0</td>\n",
       "      <td>0</td>\n",
       "      <td>2</td>\n",
       "      <td>110.0</td>\n",
       "      <td>265.0</td>\n",
       "      <td>1</td>\n",
       "      <td>0</td>\n",
       "      <td>130.0</td>\n",
       "      <td>0</td>\n",
       "      <td>1</td>\n",
       "      <td>1</td>\n",
       "      <td>no</td>\n",
       "      <td>non-anginal pain</td>\n",
       "      <td>Fasting Blood Sugar &gt; 120 mg/dl</td>\n",
       "      <td>Woman</td>\n",
       "      <td>Normal</td>\n",
       "      <td>High heart attack risk</td>\n",
       "      <td>True</td>\n",
       "      <td>True</td>\n",
       "    </tr>\n",
       "    <tr>\n",
       "      <th>63</th>\n",
       "      <td>41.0</td>\n",
       "      <td>1</td>\n",
       "      <td>1</td>\n",
       "      <td>135.0</td>\n",
       "      <td>203.0</td>\n",
       "      <td>0</td>\n",
       "      <td>1</td>\n",
       "      <td>132.0</td>\n",
       "      <td>0</td>\n",
       "      <td>0</td>\n",
       "      <td>1</td>\n",
       "      <td>no</td>\n",
       "      <td>atypical angina</td>\n",
       "      <td>Fasting Blood Sugar &lt; 120 mg/dl</td>\n",
       "      <td>Man</td>\n",
       "      <td>ST-T Wave abnormality</td>\n",
       "      <td>High heart attack risk</td>\n",
       "      <td>True</td>\n",
       "      <td>True</td>\n",
       "    </tr>\n",
       "  </tbody>\n",
       "</table>\n",
       "</div>"
      ],
      "text/plain": [
       "     age  sex  cp  trtbps   chol  fbs  restecg  thalachh  exng  caa  output  \\\n",
       "39  65.0    0   2   160.0  360.0    0        0     151.0     0    0       1   \n",
       "44  39.0    1   2   140.0  321.0    0        0     182.0     0    0       1   \n",
       "53  44.0    0   2   108.0  141.0    0        1     175.0     0    0       1   \n",
       "60  71.0    0   2   110.0  265.0    1        0     130.0     0    1       1   \n",
       "63  41.0    1   1   135.0  203.0    0        1     132.0     0    0       1   \n",
       "\n",
       "   desc_exang            desc_cp                         desc_fbs desc_sex  \\\n",
       "39         no   non-anginal pain  Fasting Blood Sugar < 120 mg/dl    Woman   \n",
       "44         no   non-anginal pain  Fasting Blood Sugar < 120 mg/dl      Man   \n",
       "53         no   non-anginal pain  Fasting Blood Sugar < 120 mg/dl    Woman   \n",
       "60         no   non-anginal pain  Fasting Blood Sugar > 120 mg/dl    Woman   \n",
       "63         no    atypical angina  Fasting Blood Sugar < 120 mg/dl      Man   \n",
       "\n",
       "             desc_restecg             desc_output  atipico_1  atipico_2  \n",
       "39                 Normal  High heart attack risk       True       True  \n",
       "44                 Normal  High heart attack risk       True       True  \n",
       "53  ST-T Wave abnormality  High heart attack risk       True       True  \n",
       "60                 Normal  High heart attack risk       True       True  \n",
       "63  ST-T Wave abnormality  High heart attack risk       True       True  "
      ]
     },
     "execution_count": 22,
     "metadata": {},
     "output_type": "execute_result"
    }
   ],
   "source": [
    "df.loc[df.atipico_2 == True].head()"
   ]
  },
  {
   "cell_type": "markdown",
   "metadata": {},
   "source": [
    "Eliminaremos estos registros para que no desvirtúen los análisis estadísticos posteriores."
   ]
  },
  {
   "cell_type": "code",
   "execution_count": 23,
   "metadata": {},
   "outputs": [],
   "source": [
    "data = df.loc[df.atipico_2 == False]\n",
    "data = data.drop(columns = [\"atipico_1\", \"atipico_2\"], axis = 1)"
   ]
  },
  {
   "cell_type": "code",
   "execution_count": 24,
   "metadata": {},
   "outputs": [
    {
     "data": {
      "text/html": [
       "<div>\n",
       "<style scoped>\n",
       "    .dataframe tbody tr th:only-of-type {\n",
       "        vertical-align: middle;\n",
       "    }\n",
       "\n",
       "    .dataframe tbody tr th {\n",
       "        vertical-align: top;\n",
       "    }\n",
       "\n",
       "    .dataframe thead th {\n",
       "        text-align: right;\n",
       "    }\n",
       "</style>\n",
       "<table border=\"1\" class=\"dataframe\">\n",
       "  <thead>\n",
       "    <tr style=\"text-align: right;\">\n",
       "      <th></th>\n",
       "      <th>age</th>\n",
       "      <th>sex</th>\n",
       "      <th>cp</th>\n",
       "      <th>trtbps</th>\n",
       "      <th>chol</th>\n",
       "      <th>fbs</th>\n",
       "      <th>restecg</th>\n",
       "      <th>thalachh</th>\n",
       "      <th>exng</th>\n",
       "      <th>caa</th>\n",
       "      <th>output</th>\n",
       "    </tr>\n",
       "  </thead>\n",
       "  <tbody>\n",
       "    <tr>\n",
       "      <th>count</th>\n",
       "      <td>271.000000</td>\n",
       "      <td>271.000000</td>\n",
       "      <td>271.000000</td>\n",
       "      <td>271.000000</td>\n",
       "      <td>271.000000</td>\n",
       "      <td>271.000000</td>\n",
       "      <td>271.000000</td>\n",
       "      <td>271.000000</td>\n",
       "      <td>271.000000</td>\n",
       "      <td>271.000000</td>\n",
       "      <td>271.000000</td>\n",
       "    </tr>\n",
       "    <tr>\n",
       "      <th>mean</th>\n",
       "      <td>54.324723</td>\n",
       "      <td>0.686347</td>\n",
       "      <td>0.992620</td>\n",
       "      <td>129.696679</td>\n",
       "      <td>243.941697</td>\n",
       "      <td>0.143911</td>\n",
       "      <td>0.542435</td>\n",
       "      <td>151.563100</td>\n",
       "      <td>0.309963</td>\n",
       "      <td>0.734317</td>\n",
       "      <td>0.557196</td>\n",
       "    </tr>\n",
       "    <tr>\n",
       "      <th>std</th>\n",
       "      <td>8.544746</td>\n",
       "      <td>0.464836</td>\n",
       "      <td>1.032769</td>\n",
       "      <td>14.105516</td>\n",
       "      <td>40.893955</td>\n",
       "      <td>0.351649</td>\n",
       "      <td>0.520904</td>\n",
       "      <td>21.252976</td>\n",
       "      <td>0.463334</td>\n",
       "      <td>1.027170</td>\n",
       "      <td>0.497637</td>\n",
       "    </tr>\n",
       "    <tr>\n",
       "      <th>min</th>\n",
       "      <td>34.000000</td>\n",
       "      <td>0.000000</td>\n",
       "      <td>0.000000</td>\n",
       "      <td>94.000000</td>\n",
       "      <td>149.000000</td>\n",
       "      <td>0.000000</td>\n",
       "      <td>0.000000</td>\n",
       "      <td>95.000000</td>\n",
       "      <td>0.000000</td>\n",
       "      <td>0.000000</td>\n",
       "      <td>0.000000</td>\n",
       "    </tr>\n",
       "    <tr>\n",
       "      <th>25%</th>\n",
       "      <td>48.000000</td>\n",
       "      <td>0.000000</td>\n",
       "      <td>0.000000</td>\n",
       "      <td>120.000000</td>\n",
       "      <td>212.000000</td>\n",
       "      <td>0.000000</td>\n",
       "      <td>0.000000</td>\n",
       "      <td>140.000000</td>\n",
       "      <td>0.000000</td>\n",
       "      <td>0.000000</td>\n",
       "      <td>0.000000</td>\n",
       "    </tr>\n",
       "    <tr>\n",
       "      <th>50%</th>\n",
       "      <td>55.000000</td>\n",
       "      <td>1.000000</td>\n",
       "      <td>1.000000</td>\n",
       "      <td>130.000000</td>\n",
       "      <td>240.000000</td>\n",
       "      <td>0.000000</td>\n",
       "      <td>1.000000</td>\n",
       "      <td>155.000000</td>\n",
       "      <td>0.000000</td>\n",
       "      <td>0.000000</td>\n",
       "      <td>1.000000</td>\n",
       "    </tr>\n",
       "    <tr>\n",
       "      <th>75%</th>\n",
       "      <td>61.000000</td>\n",
       "      <td>1.000000</td>\n",
       "      <td>2.000000</td>\n",
       "      <td>140.000000</td>\n",
       "      <td>270.000000</td>\n",
       "      <td>0.000000</td>\n",
       "      <td>1.000000</td>\n",
       "      <td>168.000000</td>\n",
       "      <td>1.000000</td>\n",
       "      <td>1.000000</td>\n",
       "      <td>1.000000</td>\n",
       "    </tr>\n",
       "    <tr>\n",
       "      <th>max</th>\n",
       "      <td>71.000000</td>\n",
       "      <td>1.000000</td>\n",
       "      <td>3.000000</td>\n",
       "      <td>165.000000</td>\n",
       "      <td>354.000000</td>\n",
       "      <td>1.000000</td>\n",
       "      <td>2.000000</td>\n",
       "      <td>195.000000</td>\n",
       "      <td>1.000000</td>\n",
       "      <td>4.000000</td>\n",
       "      <td>1.000000</td>\n",
       "    </tr>\n",
       "  </tbody>\n",
       "</table>\n",
       "</div>"
      ],
      "text/plain": [
       "              age         sex          cp      trtbps        chol         fbs  \\\n",
       "count  271.000000  271.000000  271.000000  271.000000  271.000000  271.000000   \n",
       "mean    54.324723    0.686347    0.992620  129.696679  243.941697    0.143911   \n",
       "std      8.544746    0.464836    1.032769   14.105516   40.893955    0.351649   \n",
       "min     34.000000    0.000000    0.000000   94.000000  149.000000    0.000000   \n",
       "25%     48.000000    0.000000    0.000000  120.000000  212.000000    0.000000   \n",
       "50%     55.000000    1.000000    1.000000  130.000000  240.000000    0.000000   \n",
       "75%     61.000000    1.000000    2.000000  140.000000  270.000000    0.000000   \n",
       "max     71.000000    1.000000    3.000000  165.000000  354.000000    1.000000   \n",
       "\n",
       "          restecg    thalachh        exng         caa      output  \n",
       "count  271.000000  271.000000  271.000000  271.000000  271.000000  \n",
       "mean     0.542435  151.563100    0.309963    0.734317    0.557196  \n",
       "std      0.520904   21.252976    0.463334    1.027170    0.497637  \n",
       "min      0.000000   95.000000    0.000000    0.000000    0.000000  \n",
       "25%      0.000000  140.000000    0.000000    0.000000    0.000000  \n",
       "50%      1.000000  155.000000    0.000000    0.000000    1.000000  \n",
       "75%      1.000000  168.000000    1.000000    1.000000    1.000000  \n",
       "max      2.000000  195.000000    1.000000    4.000000    1.000000  "
      ]
     },
     "execution_count": 24,
     "metadata": {},
     "output_type": "execute_result"
    }
   ],
   "source": [
    "data.describe()"
   ]
  },
  {
   "cell_type": "markdown",
   "metadata": {},
   "source": [
    "## 4. Análisis de los datos y representación de resultados"
   ]
  },
  {
   "cell_type": "markdown",
   "metadata": {},
   "source": [
    "### 4.1 Selección de las variables a analizar"
   ]
  },
  {
   "cell_type": "markdown",
   "metadata": {},
   "source": [
    "Las variables que vamos a analizar son:\n",
    "- age (edad)\n",
    "- sex (sexo)\n",
    "- trtbps (presión sanguinea en reposo)\n",
    "- chol (colesterol en sangre)\n",
    "- thallachh (pulsaciones máximas)\n",
    "\n",
    "El objetivo es determinar si existe correlación entre las variables numéricas y si a partir de ellas podemos realizar una modelo de Regresión que prediga la variable objetivo. También verificaremos que si el sexo presenta diferencias estadísticas con respecto a las otras variables y así realizar estudios separados.\n",
    "\n",
    "Antes de todo, realizaremos pruebas de normalidad y homocedasticidad a las variables numéricas, para determinar qué tipo de análisis estadístico realizaremos."
   ]
  },
  {
   "cell_type": "markdown",
   "metadata": {},
   "source": [
    "### 4.2 Análisis de normalidad y homogeneidad de la varianza"
   ]
  },
  {
   "cell_type": "markdown",
   "metadata": {},
   "source": [
    "#### Test de normalidad"
   ]
  },
  {
   "cell_type": "code",
   "execution_count": 25,
   "metadata": {},
   "outputs": [],
   "source": [
    "from scipy.stats import shapiro\n",
    "\n",
    "def shapiro_test_normality(data, col):\n",
    "    stat, pvalue = shapiro(data)\n",
    "    print(f\"Result for {col}:\")\n",
    "    print(\"stat: %.9f, p: %.9f\" % (stat, pvalue))\n",
    "    if pvalue > 0.05:\n",
    "        dist = \"Gaussian\"\n",
    "    else:\n",
    "        dist = \"Non-gaussian\"\n",
    "    print(f\"{dist} distribution\\n\")"
   ]
  },
  {
   "cell_type": "code",
   "execution_count": 26,
   "metadata": {},
   "outputs": [
    {
     "name": "stdout",
     "output_type": "stream",
     "text": [
      "Result for trtbps:\n",
      "stat: 0.987968326, p: 0.023370177\n",
      "Non-gaussian distribution\n",
      "\n",
      "Result for chol:\n",
      "stat: 0.987561703, p: 0.019400558\n",
      "Non-gaussian distribution\n",
      "\n",
      "Result for age:\n",
      "stat: 0.979144812, p: 0.000531144\n",
      "Non-gaussian distribution\n",
      "\n",
      "Result for thalachh:\n",
      "stat: 0.970482886, p: 0.000022050\n",
      "Non-gaussian distribution\n",
      "\n"
     ]
    }
   ],
   "source": [
    "for col in features:\n",
    "    shapiro_test_normality(data[col], col)"
   ]
  },
  {
   "cell_type": "markdown",
   "metadata": {},
   "source": [
    "Para todas las variables excepto el colesterol, el valor pvalue del test de Shapiro es menor a 0.05, lo que implica que no hay normalidad. \n",
    "\n",
    "Deberemos transformar los datos antes de comprobar la correlación (Pearson) con las demás variables. Para ello, utilizaremos la transformación de Box-Cox."
   ]
  },
  {
   "cell_type": "markdown",
   "metadata": {},
   "source": [
    "#### Transformación de BoxCox"
   ]
  },
  {
   "cell_type": "code",
   "execution_count": 27,
   "metadata": {},
   "outputs": [],
   "source": [
    "from scipy.stats import boxcox\n",
    "\n",
    "def boxcox_transform(data, col):\n",
    "    fitted_data, fitted_lambda = boxcox(data)\n",
    "    shapiro_test_normality(fitted_data, col)\n",
    "    return fitted_data"
   ]
  },
  {
   "cell_type": "code",
   "execution_count": 28,
   "metadata": {},
   "outputs": [
    {
     "name": "stdout",
     "output_type": "stream",
     "text": [
      "Result for trtbps_transformed:\n",
      "stat: 0.988065422, p: 0.024435064\n",
      "Non-gaussian distribution\n",
      "\n",
      "Result for chol_transformed:\n",
      "stat: 0.994257808, p: 0.397110224\n",
      "Gaussian distribution\n",
      "\n",
      "Result for age_transformed:\n",
      "stat: 0.983333707, p: 0.002981902\n",
      "Non-gaussian distribution\n",
      "\n",
      "Result for thalachh_transformed:\n",
      "stat: 0.989882171, p: 0.056598473\n",
      "Gaussian distribution\n",
      "\n"
     ]
    }
   ],
   "source": [
    "for col in features:\n",
    "    transformed_col = f\"{col}_transformed\"\n",
    "    tranformed_data  = boxcox_transform(data[col], transformed_col)\n",
    "    data[transformed_col] = tranformed_data"
   ]
  },
  {
   "cell_type": "markdown",
   "metadata": {},
   "source": [
    "Como vemos, tan solo thalachh_transformed y chol_transformed siguen una distribución normal a pesar de la transformación box-cox. \n",
    "\n",
    "Para realizar fine-tunning vamos a dibujar las distribuciones antes y después de la tranformación para identificar el problema y decidir los próximos pasos a seguir."
   ]
  },
  {
   "cell_type": "code",
   "execution_count": 29,
   "metadata": {},
   "outputs": [
    {
     "data": {
      "image/png": "[encoded data removed]",
      "text/plain": [
       "<Figure size 864x1008 with 8 Axes>"
      ]
     },
     "metadata": {
      "needs_background": "light"
     },
     "output_type": "display_data"
    }
   ],
   "source": [
    "import matplotlib.pyplot as plt\n",
    "import seaborn as sns\n",
    "\n",
    "extended_features = []\n",
    "\n",
    "fig, ax = plt.subplots(len(features), 2)\n",
    "\n",
    "for idx, col in enumerate(features):\n",
    "    transformed_col = f\"{col}_transformed\"\n",
    "\n",
    "    sns.distplot(data[col], hist = False, kde = True,\\\n",
    "                    kde_kws = {'shade': True, 'linewidth': 2}, \\\n",
    "                    label = \"Original data\", color =\"blue\", ax = ax[idx][0])\n",
    "    sns.distplot(data[transformed_col], hist = False, kde = True, \\\n",
    "                    kde_kws = {'shade': True, 'linewidth': 2},\\\n",
    "                    label = \"Transformed data\", color =\"green\", ax = ax[idx][1])\n",
    "\n",
    "    extended_features.append(col)\n",
    "    extended_features.append(transformed_col)\n",
    "\n",
    "# rescaling the subplots\n",
    "fig.set_figheight(14)\n",
    "fig.set_figwidth(12)"
   ]
  },
  {
   "cell_type": "markdown",
   "metadata": {},
   "source": [
    "A pesar de que el test de shapiro nos está dando valores muy bajos de p-value, observando la distribución se aprecia una tendencia muy similar a la normal para la columna trtbps. Si bien es cierto que las 4 variables tienen un pequeño pico (especialmente significativo para la edad) alrededor del primer tercio del eje X.\n",
    "\n",
    "Habiendo visto en estos gráficos que la distribución no es totalmente desordenada y su cercanía a una normal, vamos a realizar un segundo test (Kolmogorov-Smirnov) y en función de sus resultados proseguiremos con los análisis asumiendo o no la normalidad de las variables."
   ]
  },
  {
   "cell_type": "code",
   "execution_count": 30,
   "metadata": {},
   "outputs": [],
   "source": [
    "from scipy.stats import kstest, norm\n",
    "\n",
    "def ks_test_normality(data, col):\n",
    "    loc, scale = norm.fit(data)\n",
    "    n = norm(loc = loc, scale = scale)\n",
    "    stat, pvalue = kstest(data, n.cdf)\n",
    "    print(f\"Result for {col}:\")\n",
    "    print(\"stat: %.9f, p: %.9f\" % (stat, pvalue))\n",
    "    if pvalue > 0.05:\n",
    "        dist = \"Gaussian\"\n",
    "    else:\n",
    "        dist = \"Non-gaussian\"\n",
    "    print(f\"{dist} distribution\\n\")"
   ]
  },
  {
   "cell_type": "code",
   "execution_count": 31,
   "metadata": {},
   "outputs": [
    {
     "name": "stdout",
     "output_type": "stream",
     "text": [
      "### Testing with Kolmogorov-Smirnov  ###\n",
      "Result for trtbps_transformed:\n",
      "stat: 0.067830938, p: 0.157730868\n",
      "Gaussian distribution\n",
      "\n",
      "Result for chol_transformed:\n",
      "stat: 0.030951609, p: 0.950327794\n",
      "Gaussian distribution\n",
      "\n",
      "Result for age_transformed:\n",
      "stat: 0.060865668, p: 0.257307604\n",
      "Gaussian distribution\n",
      "\n",
      "Result for thalachh_transformed:\n",
      "stat: 0.045024898, p: 0.625381413\n",
      "Gaussian distribution\n",
      "\n"
     ]
    }
   ],
   "source": [
    "print(\"### Testing with Kolmogorov-Smirnov  ###\")\n",
    "\n",
    "_ = [ks_test_normality(data[col], col) for col in extended_features if col.__contains__('_transformed')]   "
   ]
  },
  {
   "cell_type": "markdown",
   "metadata": {},
   "source": [
    "Obtenemos p-values suficientemente significativos para que, junto con los resultados de los gráficos, consideremos todas las variables transformadas normales excepto por la edad.\n",
    "\n",
    "Si bien el p-value de K-S indica que sí que tiene una distribución Gaussiana, teniendo en cuenta el resultado de Shapiro-Wilk (que suele considerarse más robusto) y el gráfico anterior, resulta razonable no considerarla normal.\n",
    "\n",
    "Además, esto nos permitirá poner en práctica técnicas no paramétricas para este tipo de variables. Por lo tanto, consideramos los siguientes tipos de variables:"
   ]
  },
  {
   "cell_type": "code",
   "execution_count": 32,
   "metadata": {},
   "outputs": [],
   "source": [
    "normal_features = [\"thalachh_transformed\", \"chol_transformed\", \"trtbps_transformed\"]\n",
    "abnormal_features = [\"age\"]"
   ]
  },
  {
   "cell_type": "markdown",
   "metadata": {},
   "source": [
    "#### Homogeneidad de la varianza para distribuciones normales"
   ]
  },
  {
   "cell_type": "markdown",
   "metadata": {},
   "source": [
    "Para distribuciones normales, se suele utilizar el test de Levene para determinar su homocedasticidad. Vamos a excluir la variable *age* de este análisis ya que como hemos indicado en el apartado anterior, no sigue una distribución normal."
   ]
  },
  {
   "cell_type": "code",
   "execution_count": 43,
   "metadata": {},
   "outputs": [],
   "source": [
    "from sklearn.preprocessing import StandardScaler\n",
    "\n",
    "std_scaler = MinMaxScaler()\n",
    "\n",
    "scaled_data = std_scaler.fit_transform(data[extended_features].to_numpy())\n",
    "scaled_data = pd.DataFrame(scaled_data, columns=extended_features)"
   ]
  },
  {
   "cell_type": "code",
   "execution_count": 44,
   "metadata": {},
   "outputs": [],
   "source": [
    "from scipy.stats import levene\n",
    "\n",
    "\n",
    "def levene_test_homocedasticity(df: pd.DataFrame, extended_cols: list, mode: str = 'mean'):\n",
    "    transformed_fields = [col for col in extended_cols if col.__contains__('_transformed')]\n",
    "    for first_field in transformed_fields:\n",
    "        transformed_fields.remove(first_field)\n",
    "        for second_field in transformed_fields:\n",
    "            stat, pvalue = levene(df[first_field], df[second_field], center=mode)\n",
    "            print(\"stat: %.3f, p: %.3f\" % (stat, pvalue))\n",
    "            if pvalue > 0.05:\n",
    "                dist = f\"Homocedasticity between {first_field} and {second_field}\"\n",
    "            else:\n",
    "                dist = f\"Non-Homocedasticity between {first_field} and {second_field}\"\n",
    "            print(dist)"
   ]
  },
  {
   "cell_type": "code",
   "execution_count": 45,
   "metadata": {},
   "outputs": [
    {
     "name": "stdout",
     "output_type": "stream",
     "text": [
      "stat: 2.251, p: 0.134\n",
      "Homocedasticity between thalachh_transformed and chol_transformed\n",
      "stat: 2.461, p: 0.117\n",
      "Homocedasticity between thalachh_transformed and trtbps_transformed\n",
      "stat: 0.011, p: 0.915\n",
      "Homocedasticity between trtbps_transformed and chol_transformed\n"
     ]
    }
   ],
   "source": [
    "levene_test_homocedasticity(scaled_data, normal_features)"
   ]
  },
  {
   "cell_type": "markdown",
   "metadata": {},
   "source": [
    "#### Homogeneidad de la varianza para distribuciones no normales"
   ]
  },
  {
   "cell_type": "markdown",
   "metadata": {},
   "source": [
    "Para medir la homocedasticidad de *age*, utilizaremos el test de Fligner-Killeen, que es la alternativa no-paramétrica del test de Levene"
   ]
  },
  {
   "cell_type": "code",
   "execution_count": 46,
   "metadata": {},
   "outputs": [],
   "source": [
    "from scipy.stats import fligner\n",
    "\n",
    "def fligner_test_homocedasticity(df: pd.DataFrame, extended_cols: list, mode: str = 'mean'):\n",
    "    transformed_fields = [col for col in extended_cols if col.__contains__('_transformed')]\n",
    "    for first_field in transformed_fields:\n",
    "        transformed_fields.remove(first_field)\n",
    "        for second_field in transformed_fields:\n",
    "            stat, pvalue = fligner(df[first_field], df[second_field])\n",
    "            print(\"stat: %.3f, p: %.3f\" % (stat, pvalue))\n",
    "            if pvalue > 0.05:\n",
    "                dist = f\"Homocedasticity between {first_field} and {second_field}\"\n",
    "            else:\n",
    "                dist = f\"Non-Homocedasticity between {first_field} and {second_field}\"\n",
    "            print(dist)"
   ]
  },
  {
   "cell_type": "code",
   "execution_count": 47,
   "metadata": {},
   "outputs": [
    {
     "name": "stdout",
     "output_type": "stream",
     "text": [
      "stat: 0.018, p: 0.893\n",
      "Homocedasticity between trtbps_transformed and chol_transformed\n",
      "stat: 10.817, p: 0.001\n",
      "Non-Homocedasticity between trtbps_transformed and age_transformed\n",
      "stat: 2.716, p: 0.099\n",
      "Homocedasticity between trtbps_transformed and thalachh_transformed\n",
      "stat: 10.787, p: 0.001\n",
      "Non-Homocedasticity between age_transformed and chol_transformed\n",
      "stat: 2.794, p: 0.095\n",
      "Homocedasticity between age_transformed and thalachh_transformed\n"
     ]
    }
   ],
   "source": [
    "fligner_test_homocedasticity(scaled_data, extended_features)"
   ]
  },
  {
   "cell_type": "code",
   "execution_count": 48,
   "metadata": {},
   "outputs": [],
   "source": [
    "# TODO: Cambiar texto, ha cambiado resultados de homocedasticidad."
   ]
  },
  {
   "cell_type": "markdown",
   "metadata": {},
   "source": [
    "El p-value es  mayor que 0.05 para todos los casos, por lo que obtenemos homogeneidad de la varianza de la edad respecto al resto de variables."
   ]
  },
  {
   "cell_type": "markdown",
   "metadata": {},
   "source": [
    "#### Resumen de variables y sus distribuciones:\n",
    "- **age**: Tiene una distribución no normal pero presenta homogeneidad de la varianza respecto al resto de variables.\n",
    "- **trtbps**: Tiene una distribución normal y presenta homogeneidad de la varianza respecto al resto de variables.\n",
    "- **chol**: Tiene una distribución normal y presenta homogeneidad de la varianza respecto al resto de variables.\n",
    "- **thallachh**: Tiene una distribución normal y presenta homogeneidad de la varianza respecto al resto de variables.\n",
    "\n",
    "Con estos resultados obtenidos podemos dar paso a los análisis estadísticos."
   ]
  },
  {
   "cell_type": "markdown",
   "metadata": {},
   "source": [
    "### 4.3 Aplicación de pruebas estadísticas"
   ]
  },
  {
   "cell_type": "markdown",
   "metadata": {},
   "source": [
    "En este apartado vamos a realizar varias pruebas estadísticas para entender de qué manera se relacionan y qué patrones existen en el conjunto de datos."
   ]
  },
  {
   "cell_type": "markdown",
   "metadata": {},
   "source": [
    "#### Prueba t de Student"
   ]
  },
  {
   "cell_type": "code",
   "execution_count": 49,
   "metadata": {},
   "outputs": [],
   "source": [
    "from scipy.stats import ttest_ind, mannwhitneyu"
   ]
  },
  {
   "cell_type": "code",
   "execution_count": 59,
   "metadata": {},
   "outputs": [],
   "source": [
    "data.reset_index(drop=True, inplace = True)"
   ]
  },
  {
   "cell_type": "markdown",
   "metadata": {},
   "source": [
    "Testeamos normalidad para grupos de sexo 0, 1 para las variables trtbps_transformed y chol_transformed antes de aplicar el test t de Student para valorar si hay diferencias estadísticas significativas entre ambas poblaciones.\n",
    "\n",
    "-> Conectar con poner en el modelo o no la variable sex"
   ]
  },
  {
   "cell_type": "code",
   "execution_count": 85,
   "metadata": {},
   "outputs": [
    {
     "name": "stdout",
     "output_type": "stream",
     "text": [
      "Result for trtbps_transformed:\n",
      "stat: 0.088304102, p: 0.103494215\n",
      "Gaussian distribution\n",
      "\n",
      "Result for trtbps_transformed:\n",
      "stat: 0.118297634, p: 0.170887096\n",
      "Gaussian distribution\n",
      "\n"
     ]
    }
   ],
   "source": [
    "ks_test_normality(scaled_data[data.sex==1]['trtbps_transformed'], 'trtbps_transformed')\n",
    "ks_test_normality(scaled_data[data.sex==0]['trtbps_transformed'], 'trtbps_transformed')"
   ]
  },
  {
   "cell_type": "code",
   "execution_count": 86,
   "metadata": {},
   "outputs": [
    {
     "name": "stdout",
     "output_type": "stream",
     "text": [
      "Result for thalachh_transformed:\n",
      "stat: 0.044975478, p: 0.829445810\n",
      "Gaussian distribution\n",
      "\n",
      "Result for thalachh_transformed:\n",
      "stat: 0.109395062, p: 0.242640618\n",
      "Gaussian distribution\n",
      "\n"
     ]
    }
   ],
   "source": [
    "ks_test_normality(scaled_data[data.sex==1]['thalachh_transformed'], 'thalachh_transformed')\n",
    "ks_test_normality(scaled_data[data.sex==0]['thalachh_transformed'], 'thalachh_transformed')"
   ]
  },
  {
   "cell_type": "code",
   "execution_count": 87,
   "metadata": {},
   "outputs": [
    {
     "name": "stdout",
     "output_type": "stream",
     "text": [
      "Result for chol_transformed:\n",
      "stat: 0.030344669, p: 0.993581265\n",
      "Gaussian distribution\n",
      "\n",
      "Result for chol_transformed:\n",
      "stat: 0.062999382, p: 0.867339385\n",
      "Gaussian distribution\n",
      "\n"
     ]
    }
   ],
   "source": [
    "ks_test_normality(scaled_data[data.sex==1]['chol_transformed'], 'chol_transformed')\n",
    "ks_test_normality(scaled_data[data.sex==0]['chol_transformed'], 'chol_transformed')"
   ]
  },
  {
   "cell_type": "markdown",
   "metadata": {},
   "source": [
    "-> Salen normales. Podemos usar Levene"
   ]
  },
  {
   "cell_type": "code",
   "execution_count": 76,
   "metadata": {},
   "outputs": [
    {
     "name": "stdout",
     "output_type": "stream",
     "text": [
      "LeveneResult(statistic=0.047325896815105344, pvalue=0.8279484363707968)\n"
     ]
    }
   ],
   "source": [
    "print(levene(scaled_data[data.sex==1]['trtbps_transformed'],\n",
    "             scaled_data[data.sex==0]['trtbps_transformed']))"
   ]
  },
  {
   "cell_type": "code",
   "execution_count": 77,
   "metadata": {},
   "outputs": [
    {
     "name": "stdout",
     "output_type": "stream",
     "text": [
      "LeveneResult(statistic=0.8017280469829663, pvalue=0.37137772046728534)\n"
     ]
    }
   ],
   "source": [
    "print(levene(scaled_data[data.sex==1]['chol_transformed'],\n",
    "             scaled_data[data.sex==0]['chol_transformed']))"
   ]
  },
  {
   "cell_type": "code",
   "execution_count": 84,
   "metadata": {},
   "outputs": [
    {
     "name": "stdout",
     "output_type": "stream",
     "text": [
      "LeveneResult(statistic=6.018657972370049, pvalue=0.014790262272021569)\n"
     ]
    }
   ],
   "source": [
    "print(levene(scaled_data[data.sex==1]['thalachh_transformed'],\n",
    "             scaled_data[data.sex==0]['thalachh_transformed']))"
   ]
  },
  {
   "cell_type": "markdown",
   "metadata": {},
   "source": [
    "#### T de Student"
   ]
  },
  {
   "cell_type": "code",
   "execution_count": 74,
   "metadata": {},
   "outputs": [
    {
     "name": "stdout",
     "output_type": "stream",
     "text": [
      "Ttest_indResult(statistic=-0.7941772314752312, pvalue=0.42779230832110393)\n"
     ]
    }
   ],
   "source": [
    "print(ttest_ind(scaled_data[data.sex==1]['trtbps_transformed'],\n",
    "                scaled_data[data.sex==0]['trtbps_transformed']))"
   ]
  },
  {
   "cell_type": "code",
   "execution_count": 75,
   "metadata": {},
   "outputs": [
    {
     "name": "stdout",
     "output_type": "stream",
     "text": [
      "Ttest_indResult(statistic=-2.8080486321103812, pvalue=0.005349344599590432)\n"
     ]
    }
   ],
   "source": [
    "print(ttest_ind(scaled_data[data.sex==1]['chol_transformed'],\n",
    "                scaled_data[data.sex==0]['chol_transformed']))"
   ]
  },
  {
   "cell_type": "code",
   "execution_count": 89,
   "metadata": {},
   "outputs": [
    {
     "name": "stdout",
     "output_type": "stream",
     "text": [
      "MannwhitneyuResult(statistic=7297.5, pvalue=0.3105008237437822)\n"
     ]
    }
   ],
   "source": [
    "print(mannwhitneyu(scaled_data[data.sex==1]['thalachh_transformed'],\n",
    "                scaled_data[data.sex==0]['thalachh_transformed']))"
   ]
  },
  {
   "cell_type": "markdown",
   "metadata": {},
   "source": [
    "Como vemos, la variable colesterol no supera el test, por lo que para el análisis de correlaciones la eliminamos"
   ]
  },
  {
   "cell_type": "markdown",
   "metadata": {},
   "source": [
    "Vamos a comenzar calculando las matrices de correlación para las variables *feature*."
   ]
  },
  {
   "cell_type": "markdown",
   "metadata": {},
   "source": [
    "#### Matriz de correlación de Pearson para variables normales y homocedasticas"
   ]
  },
  {
   "cell_type": "markdown",
   "metadata": {},
   "source": [
    "En el caso de las variables que presentan distribuciones normales, podemos usar el coeficiente de Pearson. Estas son todas, menos la edad."
   ]
  },
  {
   "cell_type": "code",
   "execution_count": 90,
   "metadata": {},
   "outputs": [],
   "source": [
    "# normal_features.remove('chol_transformed')"
   ]
  },
  {
   "cell_type": "code",
   "execution_count": 81,
   "metadata": {},
   "outputs": [
    {
     "data": {
      "image/png": "[encoded data removed]",
      "text/plain": [
       "<Figure size 432x288 with 2 Axes>"
      ]
     },
     "metadata": {
      "needs_background": "light"
     },
     "output_type": "display_data"
    }
   ],
   "source": [
    "matrix = scaled_data[normal_features].corr(method='pearson').round(2)\n",
    "sns.heatmap(matrix, annot=True)\n",
    "plt.show()"
   ]
  },
  {
   "cell_type": "markdown",
   "metadata": {},
   "source": [
    "#### Matriz de correlación de Spearman para variables no normales y homocedasticas"
   ]
  },
  {
   "cell_type": "markdown",
   "metadata": {},
   "source": [
    "Para la edad, calculamos una nueva matriz de confusión, y esta vez aplicamos el método de Spearman, que es una alternativa al de Pearson no paramétrica que funciona también para variables que no siguen un distribución normal, que es el caso del campo *age*."
   ]
  },
  {
   "cell_type": "code",
   "execution_count": 82,
   "metadata": {},
   "outputs": [
    {
     "data": {
      "image/png": "[encoded data removed]",
      "text/plain": [
       "<Figure size 432x288 with 2 Axes>"
      ]
     },
     "metadata": {
      "needs_background": "light"
     },
     "output_type": "display_data"
    }
   ],
   "source": [
    "matrix = scaled_data[['thalachh_transformed', 'trtbps_transformed', 'age']]\\\n",
    "            .corr(method='spearman').round(2)\n",
    "sns.heatmap(matrix[abnormal_features], annot=True)\n",
    "plt.show()"
   ]
  },
  {
   "cell_type": "code",
   "execution_count": null,
   "metadata": {},
   "outputs": [],
   "source": [
    "#TODO: Redactar comentario correlaciones"
   ]
  },
  {
   "cell_type": "markdown",
   "metadata": {},
   "source": [
    "A pesar de la falta de normalidad, etc etc -> Observar la correlación inversa entre las pulsaciones máximas y la edad, algo razonable desde el punto de vista etc etc."
   ]
  },
  {
   "cell_type": "code",
   "execution_count": 888,
   "metadata": {},
   "outputs": [
    {
     "data": {
      "text/html": [
       "<div>\n",
       "<style scoped>\n",
       "    .dataframe tbody tr th:only-of-type {\n",
       "        vertical-align: middle;\n",
       "    }\n",
       "\n",
       "    .dataframe tbody tr th {\n",
       "        vertical-align: top;\n",
       "    }\n",
       "\n",
       "    .dataframe thead th {\n",
       "        text-align: right;\n",
       "    }\n",
       "</style>\n",
       "<table border=\"1\" class=\"dataframe\">\n",
       "  <thead>\n",
       "    <tr style=\"text-align: right;\">\n",
       "      <th></th>\n",
       "      <th>age</th>\n",
       "      <th>sex</th>\n",
       "      <th>cp</th>\n",
       "      <th>trtbps</th>\n",
       "      <th>chol</th>\n",
       "      <th>fbs</th>\n",
       "      <th>restecg</th>\n",
       "      <th>thalachh</th>\n",
       "      <th>exng</th>\n",
       "      <th>caa</th>\n",
       "      <th>...</th>\n",
       "      <th>desc_fbs</th>\n",
       "      <th>desc_sex</th>\n",
       "      <th>desc_restecg</th>\n",
       "      <th>desc_output</th>\n",
       "      <th>atipico_1</th>\n",
       "      <th>atipico_2</th>\n",
       "      <th>trtbps_transformed</th>\n",
       "      <th>chol_transformed</th>\n",
       "      <th>age_transformed</th>\n",
       "      <th>thalachh_transformed</th>\n",
       "    </tr>\n",
       "  </thead>\n",
       "  <tbody>\n",
       "    <tr>\n",
       "      <th>0</th>\n",
       "      <td>63.0</td>\n",
       "      <td>1</td>\n",
       "      <td>3</td>\n",
       "      <td>145.0</td>\n",
       "      <td>233.0</td>\n",
       "      <td>1</td>\n",
       "      <td>0</td>\n",
       "      <td>150.0</td>\n",
       "      <td>0</td>\n",
       "      <td>0</td>\n",
       "      <td>...</td>\n",
       "      <td>Fasting Blood Sugar &gt; 120 mg/dl</td>\n",
       "      <td>Man</td>\n",
       "      <td>Normal</td>\n",
       "      <td>High heart attack risk</td>\n",
       "      <td>False</td>\n",
       "      <td>False</td>\n",
       "      <td>11.393847</td>\n",
       "      <td>47.987363</td>\n",
       "      <td>245.026003</td>\n",
       "      <td>21447.532740</td>\n",
       "    </tr>\n",
       "    <tr>\n",
       "      <th>1</th>\n",
       "      <td>37.0</td>\n",
       "      <td>1</td>\n",
       "      <td>2</td>\n",
       "      <td>130.0</td>\n",
       "      <td>250.0</td>\n",
       "      <td>0</td>\n",
       "      <td>1</td>\n",
       "      <td>187.0</td>\n",
       "      <td>0</td>\n",
       "      <td>0</td>\n",
       "      <td>...</td>\n",
       "      <td>Fasting Blood Sugar &lt; 120 mg/dl</td>\n",
       "      <td>Man</td>\n",
       "      <td>ST-T Wave abnormality</td>\n",
       "      <td>High heart attack risk</td>\n",
       "      <td>False</td>\n",
       "      <td>False</td>\n",
       "      <td>10.922868</td>\n",
       "      <td>50.242901</td>\n",
       "      <td>115.210734</td>\n",
       "      <td>34397.555059</td>\n",
       "    </tr>\n",
       "    <tr>\n",
       "      <th>2</th>\n",
       "      <td>41.0</td>\n",
       "      <td>0</td>\n",
       "      <td>1</td>\n",
       "      <td>130.0</td>\n",
       "      <td>204.0</td>\n",
       "      <td>0</td>\n",
       "      <td>0</td>\n",
       "      <td>172.0</td>\n",
       "      <td>0</td>\n",
       "      <td>0</td>\n",
       "      <td>...</td>\n",
       "      <td>Fasting Blood Sugar &lt; 120 mg/dl</td>\n",
       "      <td>Woman</td>\n",
       "      <td>Normal</td>\n",
       "      <td>High heart attack risk</td>\n",
       "      <td>False</td>\n",
       "      <td>False</td>\n",
       "      <td>10.922868</td>\n",
       "      <td>43.994208</td>\n",
       "      <td>133.288287</td>\n",
       "      <td>28755.762178</td>\n",
       "    </tr>\n",
       "    <tr>\n",
       "      <th>3</th>\n",
       "      <td>56.0</td>\n",
       "      <td>1</td>\n",
       "      <td>1</td>\n",
       "      <td>120.0</td>\n",
       "      <td>236.0</td>\n",
       "      <td>0</td>\n",
       "      <td>1</td>\n",
       "      <td>178.0</td>\n",
       "      <td>0</td>\n",
       "      <td>0</td>\n",
       "      <td>...</td>\n",
       "      <td>Fasting Blood Sugar &lt; 120 mg/dl</td>\n",
       "      <td>Man</td>\n",
       "      <td>ST-T Wave abnormality</td>\n",
       "      <td>High heart attack risk</td>\n",
       "      <td>False</td>\n",
       "      <td>False</td>\n",
       "      <td>10.587214</td>\n",
       "      <td>48.389693</td>\n",
       "      <td>207.381618</td>\n",
       "      <td>30947.871299</td>\n",
       "    </tr>\n",
       "    <tr>\n",
       "      <th>4</th>\n",
       "      <td>57.0</td>\n",
       "      <td>0</td>\n",
       "      <td>0</td>\n",
       "      <td>120.0</td>\n",
       "      <td>354.0</td>\n",
       "      <td>0</td>\n",
       "      <td>1</td>\n",
       "      <td>163.0</td>\n",
       "      <td>1</td>\n",
       "      <td>0</td>\n",
       "      <td>...</td>\n",
       "      <td>Fasting Blood Sugar &lt; 120 mg/dl</td>\n",
       "      <td>Woman</td>\n",
       "      <td>ST-T Wave abnormality</td>\n",
       "      <td>High heart attack risk</td>\n",
       "      <td>True</td>\n",
       "      <td>False</td>\n",
       "      <td>10.587214</td>\n",
       "      <td>62.982016</td>\n",
       "      <td>212.646759</td>\n",
       "      <td>25628.069210</td>\n",
       "    </tr>\n",
       "  </tbody>\n",
       "</table>\n",
       "<p>5 rows × 23 columns</p>\n",
       "</div>"
      ],
      "text/plain": [
       "    age  sex  cp  trtbps   chol  fbs  restecg  thalachh  exng  caa  ...  \\\n",
       "0  63.0    1   3   145.0  233.0    1        0     150.0     0    0  ...   \n",
       "1  37.0    1   2   130.0  250.0    0        1     187.0     0    0  ...   \n",
       "2  41.0    0   1   130.0  204.0    0        0     172.0     0    0  ...   \n",
       "3  56.0    1   1   120.0  236.0    0        1     178.0     0    0  ...   \n",
       "4  57.0    0   0   120.0  354.0    0        1     163.0     1    0  ...   \n",
       "\n",
       "                          desc_fbs desc_sex           desc_restecg  \\\n",
       "0  Fasting Blood Sugar > 120 mg/dl      Man                 Normal   \n",
       "1  Fasting Blood Sugar < 120 mg/dl      Man  ST-T Wave abnormality   \n",
       "2  Fasting Blood Sugar < 120 mg/dl    Woman                 Normal   \n",
       "3  Fasting Blood Sugar < 120 mg/dl      Man  ST-T Wave abnormality   \n",
       "4  Fasting Blood Sugar < 120 mg/dl    Woman  ST-T Wave abnormality   \n",
       "\n",
       "              desc_output atipico_1 atipico_2 trtbps_transformed  \\\n",
       "0  High heart attack risk     False     False          11.393847   \n",
       "1  High heart attack risk     False     False          10.922868   \n",
       "2  High heart attack risk     False     False          10.922868   \n",
       "3  High heart attack risk     False     False          10.587214   \n",
       "4  High heart attack risk      True     False          10.587214   \n",
       "\n",
       "   chol_transformed  age_transformed  thalachh_transformed  \n",
       "0         47.987363       245.026003          21447.532740  \n",
       "1         50.242901       115.210734          34397.555059  \n",
       "2         43.994208       133.288287          28755.762178  \n",
       "3         48.389693       207.381618          30947.871299  \n",
       "4         62.982016       212.646759          25628.069210  \n",
       "\n",
       "[5 rows x 23 columns]"
      ]
     },
     "execution_count": 888,
     "metadata": {},
     "output_type": "execute_result"
    }
   ],
   "source": [
    "data.head()"
   ]
  },
  {
   "cell_type": "markdown",
   "metadata": {},
   "source": [
    "## 5. Representación de los resultados"
   ]
  },
  {
   "cell_type": "markdown",
   "metadata": {},
   "source": [
    "Se realiza durante toda la práctica."
   ]
  },
  {
   "cell_type": "markdown",
   "metadata": {},
   "source": [
    "## 6. Resolución del problema\n",
    "\n",
    "- Hemos visto diferencias en el colesterol por las poblaciones masculina y femenino. Por lo que para un modelo de aprendizaje general debe incluir el sexo, ya que si no el modelo pierde resolución ya que se le está entrenando con modelo de poblaciones diferentes.\n",
    "\n",
    "- Aunque la edad tiene una correlación significativa con el thalach, creemos que ambas deben formar parte del modelo, ya que en combinación con otras variables puede indicar al modelo patrones específicos asociados con el riesgo que ayuden a mejorar la capacidad de predicción.\n",
    "\n",
    "- Thalach y trtbps no están correlacionadas y deberían formar parte del modelo.\n",
    "\n",
    "- "
   ]
  },
  {
   "cell_type": "markdown",
   "metadata": {},
   "source": [
    "## Vídeo"
   ]
  },
  {
   "cell_type": "markdown",
   "metadata": {},
   "source": [
    "[Link al vídeo](www.google.es)"
   ]
  }
 ],
 "metadata": {
  "colab": {
   "authorship_tag": "ABX9TyM+Ozw/bkLqYXNR+RFPgfOq",
   "include_colab_link": true,
   "mount_file_id": "1iSK2CEgdHJtX5SfJ3tmD20RJjzUynqvi",
   "provenance": []
  },
  "kernelspec": {
   "display_name": "Python 3 (ipykernel)",
   "language": "python",
   "name": "python3"
  },
  "language_info": {
   "codemirror_mode": {
    "name": "ipython",
    "version": 3
   },
   "file_extension": ".py",
   "mimetype": "text/x-python",
   "name": "python",
   "nbconvert_exporter": "python",
   "pygments_lexer": "ipython3",
   "version": "3.8.15"
  },
  "toc-autonumbering": false
 },
 "nbformat": 4,
 "nbformat_minor": 4
}
